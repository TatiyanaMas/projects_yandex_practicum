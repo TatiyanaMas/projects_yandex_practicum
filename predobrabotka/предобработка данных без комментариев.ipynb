{
 "cells": [
  {
   "cell_type": "markdown",
   "id": "f2e8890d",
   "metadata": {
    "deletable": false,
    "editable": false,
    "id": "c81daeeb"
   },
   "source": [
    "# Исследование надежности заемщиков\n"
   ]
  },
  {
   "cell_type": "markdown",
   "id": "98c0a464",
   "metadata": {
    "deletable": false,
    "editable": false,
    "id": "827c20bf"
   },
   "source": [
    "Во второй части проекта вы выполните шаги 3 и 4. Их вручную проверит ревьюер.\n",
    "Чтобы вам не пришлось писать код заново для шагов 1 и 2, мы добавили авторские решения в ячейки с кодом. \n",
    "\n"
   ]
  },
  {
   "cell_type": "markdown",
   "id": "cf69ddd5",
   "metadata": {
    "deletable": false,
    "editable": false,
    "id": "744d7639"
   },
   "source": [
    "## Откройте таблицу и изучите общую информацию о данных"
   ]
  },
  {
   "cell_type": "markdown",
   "id": "a09ea041",
   "metadata": {
    "deletable": false,
    "editable": false,
    "id": "e7a14c31"
   },
   "source": [
    "**Задание 1. Импортируйте библиотеку pandas. Считайте данные из csv-файла в датафрейм и сохраните в переменную `data`. Путь к файлу:**\n",
    "\n",
    "`/datasets/data.csv`"
   ]
  },
  {
   "cell_type": "code",
   "execution_count": 1,
   "id": "cd6fbd61",
   "metadata": {
    "deletable": false,
    "id": "7bcf75c9"
   },
   "outputs": [],
   "source": [
    "import pandas as pd\n",
    "\n",
    "try:\n",
    "    data = pd.read_csv('/datasets/data.csv')\n",
    "except:\n",
    "    data = pd.read_csv('https://code.s3.yandex.net/datasets/data.csv')"
   ]
  },
  {
   "cell_type": "markdown",
   "id": "2ccf8eac",
   "metadata": {
    "deletable": false,
    "editable": false,
    "id": "b8038fe3"
   },
   "source": [
    "**Задание 2. Выведите первые 20 строчек датафрейма `data` на экран.**"
   ]
  },
  {
   "cell_type": "code",
   "execution_count": 2,
   "id": "6dafc147",
   "metadata": {
    "deletable": false,
    "id": "2a7cab99",
    "outputId": "1a8f3ef2-d323-4ec2-ddf7-89670b5944c4",
    "scrolled": true
   },
   "outputs": [
    {
     "data": {
      "text/html": [
       "<div>\n",
       "<style scoped>\n",
       "    .dataframe tbody tr th:only-of-type {\n",
       "        vertical-align: middle;\n",
       "    }\n",
       "\n",
       "    .dataframe tbody tr th {\n",
       "        vertical-align: top;\n",
       "    }\n",
       "\n",
       "    .dataframe thead th {\n",
       "        text-align: right;\n",
       "    }\n",
       "</style>\n",
       "<table border=\"1\" class=\"dataframe\">\n",
       "  <thead>\n",
       "    <tr style=\"text-align: right;\">\n",
       "      <th></th>\n",
       "      <th>children</th>\n",
       "      <th>days_employed</th>\n",
       "      <th>dob_years</th>\n",
       "      <th>education</th>\n",
       "      <th>education_id</th>\n",
       "      <th>family_status</th>\n",
       "      <th>family_status_id</th>\n",
       "      <th>gender</th>\n",
       "      <th>income_type</th>\n",
       "      <th>debt</th>\n",
       "      <th>total_income</th>\n",
       "      <th>purpose</th>\n",
       "    </tr>\n",
       "  </thead>\n",
       "  <tbody>\n",
       "    <tr>\n",
       "      <th>0</th>\n",
       "      <td>1</td>\n",
       "      <td>-8437.673028</td>\n",
       "      <td>42</td>\n",
       "      <td>высшее</td>\n",
       "      <td>0</td>\n",
       "      <td>женат / замужем</td>\n",
       "      <td>0</td>\n",
       "      <td>F</td>\n",
       "      <td>сотрудник</td>\n",
       "      <td>0</td>\n",
       "      <td>253875.639453</td>\n",
       "      <td>покупка жилья</td>\n",
       "    </tr>\n",
       "    <tr>\n",
       "      <th>1</th>\n",
       "      <td>1</td>\n",
       "      <td>-4024.803754</td>\n",
       "      <td>36</td>\n",
       "      <td>среднее</td>\n",
       "      <td>1</td>\n",
       "      <td>женат / замужем</td>\n",
       "      <td>0</td>\n",
       "      <td>F</td>\n",
       "      <td>сотрудник</td>\n",
       "      <td>0</td>\n",
       "      <td>112080.014102</td>\n",
       "      <td>приобретение автомобиля</td>\n",
       "    </tr>\n",
       "    <tr>\n",
       "      <th>2</th>\n",
       "      <td>0</td>\n",
       "      <td>-5623.422610</td>\n",
       "      <td>33</td>\n",
       "      <td>Среднее</td>\n",
       "      <td>1</td>\n",
       "      <td>женат / замужем</td>\n",
       "      <td>0</td>\n",
       "      <td>M</td>\n",
       "      <td>сотрудник</td>\n",
       "      <td>0</td>\n",
       "      <td>145885.952297</td>\n",
       "      <td>покупка жилья</td>\n",
       "    </tr>\n",
       "    <tr>\n",
       "      <th>3</th>\n",
       "      <td>3</td>\n",
       "      <td>-4124.747207</td>\n",
       "      <td>32</td>\n",
       "      <td>среднее</td>\n",
       "      <td>1</td>\n",
       "      <td>женат / замужем</td>\n",
       "      <td>0</td>\n",
       "      <td>M</td>\n",
       "      <td>сотрудник</td>\n",
       "      <td>0</td>\n",
       "      <td>267628.550329</td>\n",
       "      <td>дополнительное образование</td>\n",
       "    </tr>\n",
       "    <tr>\n",
       "      <th>4</th>\n",
       "      <td>0</td>\n",
       "      <td>340266.072047</td>\n",
       "      <td>53</td>\n",
       "      <td>среднее</td>\n",
       "      <td>1</td>\n",
       "      <td>гражданский брак</td>\n",
       "      <td>1</td>\n",
       "      <td>F</td>\n",
       "      <td>пенсионер</td>\n",
       "      <td>0</td>\n",
       "      <td>158616.077870</td>\n",
       "      <td>сыграть свадьбу</td>\n",
       "    </tr>\n",
       "    <tr>\n",
       "      <th>5</th>\n",
       "      <td>0</td>\n",
       "      <td>-926.185831</td>\n",
       "      <td>27</td>\n",
       "      <td>высшее</td>\n",
       "      <td>0</td>\n",
       "      <td>гражданский брак</td>\n",
       "      <td>1</td>\n",
       "      <td>M</td>\n",
       "      <td>компаньон</td>\n",
       "      <td>0</td>\n",
       "      <td>255763.565419</td>\n",
       "      <td>покупка жилья</td>\n",
       "    </tr>\n",
       "    <tr>\n",
       "      <th>6</th>\n",
       "      <td>0</td>\n",
       "      <td>-2879.202052</td>\n",
       "      <td>43</td>\n",
       "      <td>высшее</td>\n",
       "      <td>0</td>\n",
       "      <td>женат / замужем</td>\n",
       "      <td>0</td>\n",
       "      <td>F</td>\n",
       "      <td>компаньон</td>\n",
       "      <td>0</td>\n",
       "      <td>240525.971920</td>\n",
       "      <td>операции с жильем</td>\n",
       "    </tr>\n",
       "    <tr>\n",
       "      <th>7</th>\n",
       "      <td>0</td>\n",
       "      <td>-152.779569</td>\n",
       "      <td>50</td>\n",
       "      <td>СРЕДНЕЕ</td>\n",
       "      <td>1</td>\n",
       "      <td>женат / замужем</td>\n",
       "      <td>0</td>\n",
       "      <td>M</td>\n",
       "      <td>сотрудник</td>\n",
       "      <td>0</td>\n",
       "      <td>135823.934197</td>\n",
       "      <td>образование</td>\n",
       "    </tr>\n",
       "    <tr>\n",
       "      <th>8</th>\n",
       "      <td>2</td>\n",
       "      <td>-6929.865299</td>\n",
       "      <td>35</td>\n",
       "      <td>ВЫСШЕЕ</td>\n",
       "      <td>0</td>\n",
       "      <td>гражданский брак</td>\n",
       "      <td>1</td>\n",
       "      <td>F</td>\n",
       "      <td>сотрудник</td>\n",
       "      <td>0</td>\n",
       "      <td>95856.832424</td>\n",
       "      <td>на проведение свадьбы</td>\n",
       "    </tr>\n",
       "    <tr>\n",
       "      <th>9</th>\n",
       "      <td>0</td>\n",
       "      <td>-2188.756445</td>\n",
       "      <td>41</td>\n",
       "      <td>среднее</td>\n",
       "      <td>1</td>\n",
       "      <td>женат / замужем</td>\n",
       "      <td>0</td>\n",
       "      <td>M</td>\n",
       "      <td>сотрудник</td>\n",
       "      <td>0</td>\n",
       "      <td>144425.938277</td>\n",
       "      <td>покупка жилья для семьи</td>\n",
       "    </tr>\n",
       "    <tr>\n",
       "      <th>10</th>\n",
       "      <td>2</td>\n",
       "      <td>-4171.483647</td>\n",
       "      <td>36</td>\n",
       "      <td>высшее</td>\n",
       "      <td>0</td>\n",
       "      <td>женат / замужем</td>\n",
       "      <td>0</td>\n",
       "      <td>M</td>\n",
       "      <td>компаньон</td>\n",
       "      <td>0</td>\n",
       "      <td>113943.491460</td>\n",
       "      <td>покупка недвижимости</td>\n",
       "    </tr>\n",
       "    <tr>\n",
       "      <th>11</th>\n",
       "      <td>0</td>\n",
       "      <td>-792.701887</td>\n",
       "      <td>40</td>\n",
       "      <td>среднее</td>\n",
       "      <td>1</td>\n",
       "      <td>женат / замужем</td>\n",
       "      <td>0</td>\n",
       "      <td>F</td>\n",
       "      <td>сотрудник</td>\n",
       "      <td>0</td>\n",
       "      <td>77069.234271</td>\n",
       "      <td>покупка коммерческой недвижимости</td>\n",
       "    </tr>\n",
       "    <tr>\n",
       "      <th>12</th>\n",
       "      <td>0</td>\n",
       "      <td>NaN</td>\n",
       "      <td>65</td>\n",
       "      <td>среднее</td>\n",
       "      <td>1</td>\n",
       "      <td>гражданский брак</td>\n",
       "      <td>1</td>\n",
       "      <td>M</td>\n",
       "      <td>пенсионер</td>\n",
       "      <td>0</td>\n",
       "      <td>NaN</td>\n",
       "      <td>сыграть свадьбу</td>\n",
       "    </tr>\n",
       "    <tr>\n",
       "      <th>13</th>\n",
       "      <td>0</td>\n",
       "      <td>-1846.641941</td>\n",
       "      <td>54</td>\n",
       "      <td>неоконченное высшее</td>\n",
       "      <td>2</td>\n",
       "      <td>женат / замужем</td>\n",
       "      <td>0</td>\n",
       "      <td>F</td>\n",
       "      <td>сотрудник</td>\n",
       "      <td>0</td>\n",
       "      <td>130458.228857</td>\n",
       "      <td>приобретение автомобиля</td>\n",
       "    </tr>\n",
       "    <tr>\n",
       "      <th>14</th>\n",
       "      <td>0</td>\n",
       "      <td>-1844.956182</td>\n",
       "      <td>56</td>\n",
       "      <td>высшее</td>\n",
       "      <td>0</td>\n",
       "      <td>гражданский брак</td>\n",
       "      <td>1</td>\n",
       "      <td>F</td>\n",
       "      <td>компаньон</td>\n",
       "      <td>1</td>\n",
       "      <td>165127.911772</td>\n",
       "      <td>покупка жилой недвижимости</td>\n",
       "    </tr>\n",
       "    <tr>\n",
       "      <th>15</th>\n",
       "      <td>1</td>\n",
       "      <td>-972.364419</td>\n",
       "      <td>26</td>\n",
       "      <td>среднее</td>\n",
       "      <td>1</td>\n",
       "      <td>женат / замужем</td>\n",
       "      <td>0</td>\n",
       "      <td>F</td>\n",
       "      <td>сотрудник</td>\n",
       "      <td>0</td>\n",
       "      <td>116820.904450</td>\n",
       "      <td>строительство собственной недвижимости</td>\n",
       "    </tr>\n",
       "    <tr>\n",
       "      <th>16</th>\n",
       "      <td>0</td>\n",
       "      <td>-1719.934226</td>\n",
       "      <td>35</td>\n",
       "      <td>среднее</td>\n",
       "      <td>1</td>\n",
       "      <td>женат / замужем</td>\n",
       "      <td>0</td>\n",
       "      <td>F</td>\n",
       "      <td>сотрудник</td>\n",
       "      <td>0</td>\n",
       "      <td>289202.704229</td>\n",
       "      <td>недвижимость</td>\n",
       "    </tr>\n",
       "    <tr>\n",
       "      <th>17</th>\n",
       "      <td>0</td>\n",
       "      <td>-2369.999720</td>\n",
       "      <td>33</td>\n",
       "      <td>высшее</td>\n",
       "      <td>0</td>\n",
       "      <td>гражданский брак</td>\n",
       "      <td>1</td>\n",
       "      <td>M</td>\n",
       "      <td>сотрудник</td>\n",
       "      <td>0</td>\n",
       "      <td>90410.586745</td>\n",
       "      <td>строительство недвижимости</td>\n",
       "    </tr>\n",
       "    <tr>\n",
       "      <th>18</th>\n",
       "      <td>0</td>\n",
       "      <td>400281.136913</td>\n",
       "      <td>53</td>\n",
       "      <td>среднее</td>\n",
       "      <td>1</td>\n",
       "      <td>вдовец / вдова</td>\n",
       "      <td>2</td>\n",
       "      <td>F</td>\n",
       "      <td>пенсионер</td>\n",
       "      <td>0</td>\n",
       "      <td>56823.777243</td>\n",
       "      <td>на покупку подержанного автомобиля</td>\n",
       "    </tr>\n",
       "    <tr>\n",
       "      <th>19</th>\n",
       "      <td>0</td>\n",
       "      <td>-10038.818549</td>\n",
       "      <td>48</td>\n",
       "      <td>СРЕДНЕЕ</td>\n",
       "      <td>1</td>\n",
       "      <td>в разводе</td>\n",
       "      <td>3</td>\n",
       "      <td>F</td>\n",
       "      <td>сотрудник</td>\n",
       "      <td>0</td>\n",
       "      <td>242831.107982</td>\n",
       "      <td>на покупку своего автомобиля</td>\n",
       "    </tr>\n",
       "  </tbody>\n",
       "</table>\n",
       "</div>"
      ],
      "text/plain": [
       "    children  days_employed  dob_years            education  education_id  \\\n",
       "0          1   -8437.673028         42               высшее             0   \n",
       "1          1   -4024.803754         36              среднее             1   \n",
       "2          0   -5623.422610         33              Среднее             1   \n",
       "3          3   -4124.747207         32              среднее             1   \n",
       "4          0  340266.072047         53              среднее             1   \n",
       "5          0    -926.185831         27               высшее             0   \n",
       "6          0   -2879.202052         43               высшее             0   \n",
       "7          0    -152.779569         50              СРЕДНЕЕ             1   \n",
       "8          2   -6929.865299         35               ВЫСШЕЕ             0   \n",
       "9          0   -2188.756445         41              среднее             1   \n",
       "10         2   -4171.483647         36               высшее             0   \n",
       "11         0    -792.701887         40              среднее             1   \n",
       "12         0            NaN         65              среднее             1   \n",
       "13         0   -1846.641941         54  неоконченное высшее             2   \n",
       "14         0   -1844.956182         56               высшее             0   \n",
       "15         1    -972.364419         26              среднее             1   \n",
       "16         0   -1719.934226         35              среднее             1   \n",
       "17         0   -2369.999720         33               высшее             0   \n",
       "18         0  400281.136913         53              среднее             1   \n",
       "19         0  -10038.818549         48              СРЕДНЕЕ             1   \n",
       "\n",
       "       family_status  family_status_id gender income_type  debt  \\\n",
       "0    женат / замужем                 0      F   сотрудник     0   \n",
       "1    женат / замужем                 0      F   сотрудник     0   \n",
       "2    женат / замужем                 0      M   сотрудник     0   \n",
       "3    женат / замужем                 0      M   сотрудник     0   \n",
       "4   гражданский брак                 1      F   пенсионер     0   \n",
       "5   гражданский брак                 1      M   компаньон     0   \n",
       "6    женат / замужем                 0      F   компаньон     0   \n",
       "7    женат / замужем                 0      M   сотрудник     0   \n",
       "8   гражданский брак                 1      F   сотрудник     0   \n",
       "9    женат / замужем                 0      M   сотрудник     0   \n",
       "10   женат / замужем                 0      M   компаньон     0   \n",
       "11   женат / замужем                 0      F   сотрудник     0   \n",
       "12  гражданский брак                 1      M   пенсионер     0   \n",
       "13   женат / замужем                 0      F   сотрудник     0   \n",
       "14  гражданский брак                 1      F   компаньон     1   \n",
       "15   женат / замужем                 0      F   сотрудник     0   \n",
       "16   женат / замужем                 0      F   сотрудник     0   \n",
       "17  гражданский брак                 1      M   сотрудник     0   \n",
       "18    вдовец / вдова                 2      F   пенсионер     0   \n",
       "19         в разводе                 3      F   сотрудник     0   \n",
       "\n",
       "     total_income                                 purpose  \n",
       "0   253875.639453                           покупка жилья  \n",
       "1   112080.014102                 приобретение автомобиля  \n",
       "2   145885.952297                           покупка жилья  \n",
       "3   267628.550329              дополнительное образование  \n",
       "4   158616.077870                         сыграть свадьбу  \n",
       "5   255763.565419                           покупка жилья  \n",
       "6   240525.971920                       операции с жильем  \n",
       "7   135823.934197                             образование  \n",
       "8    95856.832424                   на проведение свадьбы  \n",
       "9   144425.938277                 покупка жилья для семьи  \n",
       "10  113943.491460                    покупка недвижимости  \n",
       "11   77069.234271       покупка коммерческой недвижимости  \n",
       "12            NaN                         сыграть свадьбу  \n",
       "13  130458.228857                 приобретение автомобиля  \n",
       "14  165127.911772              покупка жилой недвижимости  \n",
       "15  116820.904450  строительство собственной недвижимости  \n",
       "16  289202.704229                            недвижимость  \n",
       "17   90410.586745              строительство недвижимости  \n",
       "18   56823.777243      на покупку подержанного автомобиля  \n",
       "19  242831.107982            на покупку своего автомобиля  "
      ]
     },
     "execution_count": 2,
     "metadata": {},
     "output_type": "execute_result"
    }
   ],
   "source": [
    "data.head(20)"
   ]
  },
  {
   "cell_type": "markdown",
   "id": "6d67cc08",
   "metadata": {
    "deletable": false,
    "editable": false,
    "id": "1c12e233"
   },
   "source": [
    "**Задание 3. Выведите основную информацию о датафрейме с помощью метода `info()`.**"
   ]
  },
  {
   "cell_type": "code",
   "execution_count": 3,
   "id": "2978ffeb",
   "metadata": {
    "deletable": false,
    "id": "2b757bca",
    "outputId": "15376089-8dad-46c9-b520-c05248d43158"
   },
   "outputs": [
    {
     "name": "stdout",
     "output_type": "stream",
     "text": [
      "<class 'pandas.core.frame.DataFrame'>\n",
      "RangeIndex: 21525 entries, 0 to 21524\n",
      "Data columns (total 12 columns):\n",
      " #   Column            Non-Null Count  Dtype  \n",
      "---  ------            --------------  -----  \n",
      " 0   children          21525 non-null  int64  \n",
      " 1   days_employed     19351 non-null  float64\n",
      " 2   dob_years         21525 non-null  int64  \n",
      " 3   education         21525 non-null  object \n",
      " 4   education_id      21525 non-null  int64  \n",
      " 5   family_status     21525 non-null  object \n",
      " 6   family_status_id  21525 non-null  int64  \n",
      " 7   gender            21525 non-null  object \n",
      " 8   income_type       21525 non-null  object \n",
      " 9   debt              21525 non-null  int64  \n",
      " 10  total_income      19351 non-null  float64\n",
      " 11  purpose           21525 non-null  object \n",
      "dtypes: float64(2), int64(5), object(5)\n",
      "memory usage: 2.0+ MB\n"
     ]
    }
   ],
   "source": [
    "data.info()"
   ]
  },
  {
   "cell_type": "markdown",
   "id": "1ce24d2b",
   "metadata": {
    "deletable": false,
    "editable": false,
    "id": "333ec665"
   },
   "source": [
    "## Предобработка данных"
   ]
  },
  {
   "cell_type": "markdown",
   "id": "ae655d8d",
   "metadata": {
    "deletable": false,
    "editable": false,
    "id": "02d92d53"
   },
   "source": [
    "### Удаление пропусков"
   ]
  },
  {
   "cell_type": "markdown",
   "id": "d5989ef8",
   "metadata": {
    "deletable": false,
    "editable": false,
    "id": "cd84967c"
   },
   "source": [
    "**Задание 4. Выведите количество пропущенных значений для каждого столбца. Используйте комбинацию двух методов.**"
   ]
  },
  {
   "cell_type": "code",
   "execution_count": 4,
   "id": "093f18e0",
   "metadata": {
    "deletable": false,
    "id": "7f9b2309",
    "outputId": "81f4d817-781c-465c-ed15-91ce4446810d"
   },
   "outputs": [
    {
     "data": {
      "text/plain": [
       "children               0\n",
       "days_employed       2174\n",
       "dob_years              0\n",
       "education              0\n",
       "education_id           0\n",
       "family_status          0\n",
       "family_status_id       0\n",
       "gender                 0\n",
       "income_type            0\n",
       "debt                   0\n",
       "total_income        2174\n",
       "purpose                0\n",
       "dtype: int64"
      ]
     },
     "execution_count": 4,
     "metadata": {},
     "output_type": "execute_result"
    }
   ],
   "source": [
    "data.isna().sum()"
   ]
  },
  {
   "cell_type": "markdown",
   "id": "443c5283",
   "metadata": {
    "deletable": false,
    "editable": false,
    "id": "db86e27b"
   },
   "source": [
    "**Задание 5. В двух столбцах есть пропущенные значения. Один из них — `days_employed`. Пропуски в этом столбце вы обработаете на следующем этапе. Другой столбец с пропущенными значениями — `total_income` — хранит данные о доходах. На сумму дохода сильнее всего влияет тип занятости, поэтому заполнить пропуски в этом столбце нужно медианным значением по каждому типу из столбца `income_type`. Например, у человека с типом занятости `сотрудник` пропуск в столбце `total_income` должен быть заполнен медианным доходом среди всех записей с тем же типом.**"
   ]
  },
  {
   "cell_type": "code",
   "execution_count": 5,
   "id": "312b25a9",
   "metadata": {
    "deletable": false,
    "id": "42006a93"
   },
   "outputs": [],
   "source": [
    "for t in data['income_type'].unique():\n",
    "    data.loc[(data['income_type'] == t) & (data['total_income'].isna()), 'total_income'] = \\\n",
    "    data.loc[(data['income_type'] == t), 'total_income'].median()"
   ]
  },
  {
   "cell_type": "markdown",
   "id": "70f2c803",
   "metadata": {
    "deletable": false,
    "editable": false,
    "id": "89da5ece"
   },
   "source": [
    "### Обработка аномальных значений"
   ]
  },
  {
   "cell_type": "markdown",
   "id": "4e8e5629",
   "metadata": {
    "deletable": false,
    "editable": false,
    "id": "57964554"
   },
   "source": [
    "**Задание 6. В данных могут встречаться артефакты (аномалии) — значения, которые не отражают действительность и появились по какой-то ошибке. таким артефактом будет отрицательное количество дней трудового стажа в столбце `days_employed`. Для реальных данных это нормально. Обработайте значения в этом столбце: замените все отрицательные значения положительными с помощью метода `abs()`.**"
   ]
  },
  {
   "cell_type": "code",
   "execution_count": 6,
   "id": "a96518b5",
   "metadata": {
    "deletable": false,
    "id": "f6f055bf"
   },
   "outputs": [],
   "source": [
    "data['days_employed'] = data['days_employed'].abs()"
   ]
  },
  {
   "cell_type": "markdown",
   "id": "402bf7b3",
   "metadata": {
    "deletable": false,
    "editable": false,
    "id": "6107dd2f"
   },
   "source": [
    "**Задание 7. Для каждого типа занятости выведите медианное значение трудового стажа `days_employed` в днях.**"
   ]
  },
  {
   "cell_type": "code",
   "execution_count": 7,
   "id": "054176ef",
   "metadata": {
    "deletable": false,
    "id": "85a5faf6",
    "outputId": "801ef80e-522b-4668-f34e-565af7432bcf"
   },
   "outputs": [
    {
     "data": {
      "text/plain": [
       "income_type\n",
       "безработный        366413.652744\n",
       "в декрете            3296.759962\n",
       "госслужащий          2689.368353\n",
       "компаньон            1547.382223\n",
       "пенсионер          365213.306266\n",
       "предприниматель       520.848083\n",
       "сотрудник            1574.202821\n",
       "студент               578.751554\n",
       "Name: days_employed, dtype: float64"
      ]
     },
     "execution_count": 7,
     "metadata": {},
     "output_type": "execute_result"
    }
   ],
   "source": [
    "data.groupby('income_type')['days_employed'].agg('median')"
   ]
  },
  {
   "cell_type": "markdown",
   "id": "7fffb393",
   "metadata": {
    "deletable": false,
    "editable": false,
    "id": "38d1a030"
   },
   "source": [
    "У двух типов (безработные и пенсионеры) получатся аномально большие значения. Исправить такие значения сложно, поэтому оставьте их как есть. Тем более этот столбец не понадобится вам для исследования."
   ]
  },
  {
   "cell_type": "markdown",
   "id": "3607318a",
   "metadata": {
    "deletable": false,
    "editable": false,
    "id": "d8a9f147"
   },
   "source": [
    "**Задание 8. Выведите перечень уникальных значений столбца `children`.**"
   ]
  },
  {
   "cell_type": "code",
   "execution_count": 8,
   "id": "c5468fe7",
   "metadata": {
    "deletable": false,
    "id": "ef5056eb",
    "outputId": "6975b15c-7f95-4697-d16d-a0c79b657b03"
   },
   "outputs": [
    {
     "data": {
      "text/plain": [
       "array([ 1,  0,  3,  2, -1,  4, 20,  5], dtype=int64)"
      ]
     },
     "execution_count": 8,
     "metadata": {},
     "output_type": "execute_result"
    }
   ],
   "source": [
    "data['children'].unique()"
   ]
  },
  {
   "cell_type": "markdown",
   "id": "08d70f71",
   "metadata": {
    "deletable": false,
    "editable": false,
    "id": "40b9ebf2"
   },
   "source": [
    "**Задание 9. В столбце `children` есть два аномальных значения. Удалите строки, в которых встречаются такие аномальные значения из датафрейма `data`.**"
   ]
  },
  {
   "cell_type": "code",
   "execution_count": 9,
   "id": "f3a0fa0f",
   "metadata": {
    "deletable": false,
    "id": "3ff9801d"
   },
   "outputs": [],
   "source": [
    "data = data[(data['children'] != -1) & (data['children'] != 20)]"
   ]
  },
  {
   "cell_type": "markdown",
   "id": "d442a4f8",
   "metadata": {
    "deletable": false,
    "editable": false,
    "id": "bbc4d0ce"
   },
   "source": [
    "**Задание 10. Ещё раз выведите перечень уникальных значений столбца `children`, чтобы убедиться, что артефакты удалены.**"
   ]
  },
  {
   "cell_type": "code",
   "execution_count": 10,
   "id": "723aa8e9",
   "metadata": {
    "deletable": false,
    "id": "ad4fa8b7",
    "outputId": "b2097101-d49d-44d9-901b-32a65c9463d1"
   },
   "outputs": [
    {
     "data": {
      "text/plain": [
       "array([1, 0, 3, 2, 4, 5], dtype=int64)"
      ]
     },
     "execution_count": 10,
     "metadata": {},
     "output_type": "execute_result"
    }
   ],
   "source": [
    "data['children'].unique()"
   ]
  },
  {
   "cell_type": "markdown",
   "id": "64aa7f84",
   "metadata": {
    "deletable": false,
    "editable": false,
    "id": "75440b63"
   },
   "source": [
    "### Удаление пропусков (продолжение)"
   ]
  },
  {
   "cell_type": "markdown",
   "id": "78b69426",
   "metadata": {
    "deletable": false,
    "editable": false,
    "id": "f4ea573f"
   },
   "source": [
    "**Задание 11. Заполните пропуски в столбце `days_employed` медианными значениями по каждого типа занятости `income_type`.**"
   ]
  },
  {
   "cell_type": "code",
   "execution_count": 11,
   "id": "93881cf6",
   "metadata": {
    "deletable": false,
    "id": "af6b1a7e"
   },
   "outputs": [],
   "source": [
    "for t in data['income_type'].unique():\n",
    "    data.loc[(data['income_type'] == t) & (data['days_employed'].isna()), 'days_employed'] = \\\n",
    "    data.loc[(data['income_type'] == t), 'days_employed'].median()"
   ]
  },
  {
   "cell_type": "markdown",
   "id": "06e334da",
   "metadata": {
    "deletable": false,
    "editable": false,
    "id": "2753f40d"
   },
   "source": [
    "**Задание 12. Убедитесь, что все пропуски заполнены. Проверьте себя и ещё раз выведите количество пропущенных значений для каждого столбца с помощью двух методов.**"
   ]
  },
  {
   "cell_type": "code",
   "execution_count": 12,
   "id": "93351d6c",
   "metadata": {
    "deletable": false,
    "id": "55f78bc2",
    "outputId": "8da1e4e1-358e-4e87-98c9-f261bce0a7b2"
   },
   "outputs": [
    {
     "data": {
      "text/plain": [
       "children            0\n",
       "days_employed       0\n",
       "dob_years           0\n",
       "education           0\n",
       "education_id        0\n",
       "family_status       0\n",
       "family_status_id    0\n",
       "gender              0\n",
       "income_type         0\n",
       "debt                0\n",
       "total_income        0\n",
       "purpose             0\n",
       "dtype: int64"
      ]
     },
     "execution_count": 12,
     "metadata": {},
     "output_type": "execute_result"
    }
   ],
   "source": [
    "data.isna().sum()"
   ]
  },
  {
   "cell_type": "markdown",
   "id": "0eb4ed5f",
   "metadata": {
    "deletable": false,
    "editable": false,
    "id": "ddc81e43"
   },
   "source": [
    "### Изменение типов данных"
   ]
  },
  {
   "cell_type": "markdown",
   "id": "1f6111ea",
   "metadata": {
    "deletable": false,
    "editable": false,
    "id": "42d19d24"
   },
   "source": [
    "**Задание 13. Замените вещественный тип данных в столбце `total_income` на целочисленный с помощью метода `astype()`.**"
   ]
  },
  {
   "cell_type": "code",
   "execution_count": 13,
   "id": "06010e94",
   "metadata": {
    "deletable": false,
    "id": "920b65ad"
   },
   "outputs": [],
   "source": [
    "data['total_income'] = data['total_income'].astype(int)"
   ]
  },
  {
   "cell_type": "markdown",
   "id": "c9883180",
   "metadata": {
    "deletable": false,
    "editable": false,
    "id": "80c420ba"
   },
   "source": [
    "### Обработка дубликатов"
   ]
  },
  {
   "cell_type": "markdown",
   "id": "7e51694b",
   "metadata": {
    "deletable": false,
    "editable": false
   },
   "source": [
    "**Задание 14. Обработайте неявные дубликаты в столбце `education`. В этом столбце есть одни и те же значения, но записанные по-разному: с использованием заглавных и строчных букв. Приведите их к нижнему регистру. Проверьте остальные столбцы.**"
   ]
  },
  {
   "cell_type": "code",
   "execution_count": 14,
   "id": "5574f507",
   "metadata": {
    "deletable": false
   },
   "outputs": [],
   "source": [
    "data['education'] = data['education'].str.lower()"
   ]
  },
  {
   "cell_type": "markdown",
   "id": "8d777017",
   "metadata": {
    "deletable": false,
    "editable": false,
    "id": "dc587695"
   },
   "source": [
    "**Задание 15. Выведите на экран количество строк-дубликатов в данных. Если такие строки присутствуют, удалите их.**"
   ]
  },
  {
   "cell_type": "code",
   "execution_count": 15,
   "id": "ff7e77f7",
   "metadata": {
    "deletable": false,
    "id": "3ee445e4",
    "outputId": "9684deba-1934-42d1-99e1-cda61740f822"
   },
   "outputs": [
    {
     "data": {
      "text/plain": [
       "71"
      ]
     },
     "execution_count": 15,
     "metadata": {},
     "output_type": "execute_result"
    }
   ],
   "source": [
    "data.duplicated().sum()"
   ]
  },
  {
   "cell_type": "code",
   "execution_count": 16,
   "id": "22d3cfb7",
   "metadata": {
    "deletable": false,
    "id": "8575fe05"
   },
   "outputs": [],
   "source": [
    "data = data.drop_duplicates()"
   ]
  },
  {
   "cell_type": "markdown",
   "id": "793afa43",
   "metadata": {
    "deletable": false,
    "editable": false,
    "id": "9904cf55"
   },
   "source": [
    "### Категоризация данных"
   ]
  },
  {
   "cell_type": "markdown",
   "id": "71600753",
   "metadata": {
    "deletable": false,
    "editable": false,
    "id": "72fcc8a2"
   },
   "source": [
    "**Задание 16. На основании диапазонов, указанных ниже, создайте в датафрейме `data` столбец `total_income_category` с категориями:**\n",
    "\n",
    "- 0–30000 — `'E'`;\n",
    "- 30001–50000 — `'D'`;\n",
    "- 50001–200000 — `'C'`;\n",
    "- 200001–1000000 — `'B'`;\n",
    "- 1000001 и выше — `'A'`.\n",
    "\n",
    "\n",
    "**Например, кредитополучателю с доходом 25000 нужно назначить категорию `'E'`, а клиенту, получающему 235000, — `'B'`. Используйте собственную функцию с именем `categorize_income()` и метод `apply()`.**"
   ]
  },
  {
   "cell_type": "code",
   "execution_count": 17,
   "id": "f2431629",
   "metadata": {
    "deletable": false,
    "id": "e1771346"
   },
   "outputs": [],
   "source": [
    "def categorize_income(income):\n",
    "    try:\n",
    "        if 0 <= income <= 30000:\n",
    "            return 'E'\n",
    "        elif 30001 <= income <= 50000:\n",
    "            return 'D'\n",
    "        elif 50001 <= income <= 200000:\n",
    "            return 'C'\n",
    "        elif 200001 <= income <= 1000000:\n",
    "            return 'B'\n",
    "        elif income >= 1000001:\n",
    "            return 'A'\n",
    "    except:\n",
    "        pass"
   ]
  },
  {
   "cell_type": "code",
   "execution_count": 18,
   "id": "507942a7",
   "metadata": {
    "deletable": false,
    "id": "d5f3586d"
   },
   "outputs": [],
   "source": [
    "data['total_income_category'] = data['total_income'].apply(categorize_income)"
   ]
  },
  {
   "cell_type": "markdown",
   "id": "c07142f9",
   "metadata": {
    "deletable": false,
    "editable": false,
    "id": "dde49b5c"
   },
   "source": [
    "**Задание 17. Выведите на экран перечень уникальных целей взятия кредита из столбца `purpose`.**"
   ]
  },
  {
   "cell_type": "code",
   "execution_count": 19,
   "id": "9352cdac",
   "metadata": {
    "deletable": false,
    "id": "f67ce9b3",
    "outputId": "673c12d9-7d7e-4ae0-9812-c622c89dd244"
   },
   "outputs": [
    {
     "data": {
      "text/plain": [
       "array(['покупка жилья', 'приобретение автомобиля',\n",
       "       'дополнительное образование', 'сыграть свадьбу',\n",
       "       'операции с жильем', 'образование', 'на проведение свадьбы',\n",
       "       'покупка жилья для семьи', 'покупка недвижимости',\n",
       "       'покупка коммерческой недвижимости', 'покупка жилой недвижимости',\n",
       "       'строительство собственной недвижимости', 'недвижимость',\n",
       "       'строительство недвижимости', 'на покупку подержанного автомобиля',\n",
       "       'на покупку своего автомобиля',\n",
       "       'операции с коммерческой недвижимостью',\n",
       "       'строительство жилой недвижимости', 'жилье',\n",
       "       'операции со своей недвижимостью', 'автомобили',\n",
       "       'заняться образованием', 'сделка с подержанным автомобилем',\n",
       "       'получение образования', 'автомобиль', 'свадьба',\n",
       "       'получение дополнительного образования', 'покупка своего жилья',\n",
       "       'операции с недвижимостью', 'получение высшего образования',\n",
       "       'свой автомобиль', 'сделка с автомобилем',\n",
       "       'профильное образование', 'высшее образование',\n",
       "       'покупка жилья для сдачи', 'на покупку автомобиля', 'ремонт жилью',\n",
       "       'заняться высшим образованием'], dtype=object)"
      ]
     },
     "execution_count": 19,
     "metadata": {},
     "output_type": "execute_result"
    }
   ],
   "source": [
    "data['purpose'].unique()"
   ]
  },
  {
   "cell_type": "markdown",
   "id": "cd12a7bc",
   "metadata": {
    "deletable": false,
    "editable": false,
    "id": "85d0aef0"
   },
   "source": [
    "**Задание 18. Создайте функцию, которая на основании данных из столбца `purpose` сформирует новый столбец `purpose_category`, в который войдут следующие категории:**\n",
    "\n",
    "- `'операции с автомобилем'`,\n",
    "- `'операции с недвижимостью'`,\n",
    "- `'проведение свадьбы'`,\n",
    "- `'получение образования'`.\n",
    "\n",
    "**Например, если в столбце `purpose` находится подстрока `'на покупку автомобиля'`, то в столбце `purpose_category` должна появиться строка `'операции с автомобилем'`.**\n",
    "\n",
    "**Используйте собственную функцию с именем `categorize_purpose()` и метод `apply()`. Изучите данные в столбце `purpose` и определите, какие подстроки помогут вам правильно определить категорию.**"
   ]
  },
  {
   "cell_type": "code",
   "execution_count": 20,
   "id": "488bd712",
   "metadata": {
    "deletable": false,
    "id": "e149fab4"
   },
   "outputs": [],
   "source": [
    "def categorize_purpose(row):\n",
    "    try:\n",
    "        if 'автом' in row:\n",
    "            return 'операции с автомобилем'\n",
    "        elif 'жил' in row or 'недвиж' in row:\n",
    "            return 'операции с недвижимостью'\n",
    "        elif 'свад' in row:\n",
    "            return 'проведение свадьбы'\n",
    "        elif 'образов' in row:\n",
    "            return 'получение образования'\n",
    "    except:\n",
    "        return 'нет категории'"
   ]
  },
  {
   "cell_type": "code",
   "execution_count": 21,
   "id": "f80b66af",
   "metadata": {
    "deletable": false,
    "id": "bf36e69b"
   },
   "outputs": [],
   "source": [
    "data['purpose_category'] = data['purpose'].apply(categorize_purpose)"
   ]
  },
  {
   "cell_type": "markdown",
   "id": "ab2762c3",
   "metadata": {
    "deletable": false,
    "editable": false,
    "id": "09b242bf"
   },
   "source": [
    "### Шаг 3. Исследуйте данные и ответьте на вопросы"
   ]
  },
  {
   "cell_type": "code",
   "execution_count": 22,
   "id": "c8345e41",
   "metadata": {},
   "outputs": [
    {
     "data": {
      "text/html": [
       "<style type=\"text/css\">\n",
       "</style>\n",
       "<table id=\"T_0ab85\">\n",
       "  <thead>\n",
       "    <tr>\n",
       "      <th class=\"blank level0\" >&nbsp;</th>\n",
       "      <th id=\"T_0ab85_level0_col0\" class=\"col_heading level0 col0\" >count</th>\n",
       "      <th id=\"T_0ab85_level0_col1\" class=\"col_heading level0 col1\" >sum</th>\n",
       "      <th id=\"T_0ab85_level0_col2\" class=\"col_heading level0 col2\" >mean</th>\n",
       "    </tr>\n",
       "    <tr>\n",
       "      <th class=\"blank level1\" >&nbsp;</th>\n",
       "      <th id=\"T_0ab85_level1_col0\" class=\"col_heading level1 col0\" >debt</th>\n",
       "      <th id=\"T_0ab85_level1_col1\" class=\"col_heading level1 col1\" >debt</th>\n",
       "      <th id=\"T_0ab85_level1_col2\" class=\"col_heading level1 col2\" >debt</th>\n",
       "    </tr>\n",
       "    <tr>\n",
       "      <th class=\"index_name level0\" >children</th>\n",
       "      <th class=\"blank col0\" >&nbsp;</th>\n",
       "      <th class=\"blank col1\" >&nbsp;</th>\n",
       "      <th class=\"blank col2\" >&nbsp;</th>\n",
       "    </tr>\n",
       "  </thead>\n",
       "  <tbody>\n",
       "    <tr>\n",
       "      <th id=\"T_0ab85_level0_row0\" class=\"row_heading level0 row0\" >0</th>\n",
       "      <td id=\"T_0ab85_row0_col0\" class=\"data row0 col0\" >14091</td>\n",
       "      <td id=\"T_0ab85_row0_col1\" class=\"data row0 col1\" >1063</td>\n",
       "      <td id=\"T_0ab85_row0_col2\" class=\"data row0 col2\" >7.54%</td>\n",
       "    </tr>\n",
       "    <tr>\n",
       "      <th id=\"T_0ab85_level0_row1\" class=\"row_heading level0 row1\" >1</th>\n",
       "      <td id=\"T_0ab85_row1_col0\" class=\"data row1 col0\" >4808</td>\n",
       "      <td id=\"T_0ab85_row1_col1\" class=\"data row1 col1\" >444</td>\n",
       "      <td id=\"T_0ab85_row1_col2\" class=\"data row1 col2\" >9.23%</td>\n",
       "    </tr>\n",
       "    <tr>\n",
       "      <th id=\"T_0ab85_level0_row2\" class=\"row_heading level0 row2\" >2</th>\n",
       "      <td id=\"T_0ab85_row2_col0\" class=\"data row2 col0\" >2052</td>\n",
       "      <td id=\"T_0ab85_row2_col1\" class=\"data row2 col1\" >194</td>\n",
       "      <td id=\"T_0ab85_row2_col2\" class=\"data row2 col2\" >9.45%</td>\n",
       "    </tr>\n",
       "    <tr>\n",
       "      <th id=\"T_0ab85_level0_row3\" class=\"row_heading level0 row3\" >3</th>\n",
       "      <td id=\"T_0ab85_row3_col0\" class=\"data row3 col0\" >330</td>\n",
       "      <td id=\"T_0ab85_row3_col1\" class=\"data row3 col1\" >27</td>\n",
       "      <td id=\"T_0ab85_row3_col2\" class=\"data row3 col2\" >8.18%</td>\n",
       "    </tr>\n",
       "    <tr>\n",
       "      <th id=\"T_0ab85_level0_row4\" class=\"row_heading level0 row4\" >4</th>\n",
       "      <td id=\"T_0ab85_row4_col0\" class=\"data row4 col0\" >41</td>\n",
       "      <td id=\"T_0ab85_row4_col1\" class=\"data row4 col1\" >4</td>\n",
       "      <td id=\"T_0ab85_row4_col2\" class=\"data row4 col2\" >9.76%</td>\n",
       "    </tr>\n",
       "    <tr>\n",
       "      <th id=\"T_0ab85_level0_row5\" class=\"row_heading level0 row5\" >5</th>\n",
       "      <td id=\"T_0ab85_row5_col0\" class=\"data row5 col0\" >9</td>\n",
       "      <td id=\"T_0ab85_row5_col1\" class=\"data row5 col1\" >0</td>\n",
       "      <td id=\"T_0ab85_row5_col2\" class=\"data row5 col2\" >0.00%</td>\n",
       "    </tr>\n",
       "  </tbody>\n",
       "</table>\n"
      ],
      "text/plain": [
       "<pandas.io.formats.style.Styler at 0x20e5c185b50>"
      ]
     },
     "execution_count": 22,
     "metadata": {},
     "output_type": "execute_result"
    }
   ],
   "source": [
    "# Создаем функцию и передаем 2 параметра\n",
    "\n",
    "def create_pivot_table(data, index):\n",
    "    \n",
    "    # Создаем сводную таблицу\n",
    "    pivot_table = data.pivot_table(\n",
    "        index=index, \n",
    "        values='debt', \n",
    "        aggfunc=['count', 'sum', 'mean']\n",
    "    )\n",
    "    \n",
    "    # Возвращаем результат\n",
    "    return pivot_table.style.format({('mean', 'debt'): '{:.2%}'})\n",
    "\n",
    "\n",
    "# Теституруем в неполном варианте, тоже будет работать\n",
    "\n",
    "create_pivot_table(data, 'children')"
   ]
  },
  {
   "cell_type": "markdown",
   "id": "e4c48a77",
   "metadata": {
    "deletable": false,
    "editable": false,
    "id": "c5d66278"
   },
   "source": [
    "#### 3.1 Есть ли зависимость между количеством детей и возвратом кредита в срок?"
   ]
  },
  {
   "cell_type": "markdown",
   "id": "d4511098",
   "metadata": {},
   "source": [
    "Ранее мы проанализировали уникальные значения столбца `children` (количество детей). На данном этапе исследования необходимо рассчитать, какое количество задолженностей приходится на каждое уникальное значение столбца `children`. Для этого необходимо просуммировать значения столбца `debt` в зависимости от количества детей."
   ]
  },
  {
   "cell_type": "markdown",
   "id": "28d9f597",
   "metadata": {},
   "source": [
    "Но для корректного расчета необходимо понимание, какие уникальные значения содержаться в столбце `debt`"
   ]
  },
  {
   "cell_type": "code",
   "execution_count": 23,
   "id": "d5dacfa5",
   "metadata": {},
   "outputs": [
    {
     "name": "stdout",
     "output_type": "stream",
     "text": [
      "[0 1]\n"
     ]
    }
   ],
   "source": [
    "print(data['debt'].unique())"
   ]
  },
  {
   "cell_type": "markdown",
   "id": "07a2b71c",
   "metadata": {},
   "source": [
    "Соответственно, ошибки при расчетах быть не должно и аномальных значений нет."
   ]
  },
  {
   "cell_type": "code",
   "execution_count": 24,
   "id": "c494efad",
   "metadata": {
    "deletable": false,
    "id": "2cacfc4a"
   },
   "outputs": [],
   "source": [
    "# Ваш код будет здесь. Вы можете создавать новые ячейки."
   ]
  },
  {
   "cell_type": "code",
   "execution_count": 25,
   "id": "0035839a",
   "metadata": {
    "scrolled": true
   },
   "outputs": [
    {
     "data": {
      "text/html": [
       "<style type=\"text/css\">\n",
       "</style>\n",
       "<table id=\"T_1bb4e\">\n",
       "  <thead>\n",
       "    <tr>\n",
       "      <th class=\"blank level0\" >&nbsp;</th>\n",
       "      <th id=\"T_1bb4e_level0_col0\" class=\"col_heading level0 col0\" >Количество заемщиков</th>\n",
       "      <th id=\"T_1bb4e_level0_col1\" class=\"col_heading level0 col1\" >Количество должников</th>\n",
       "      <th id=\"T_1bb4e_level0_col2\" class=\"col_heading level0 col2\" >Процент просрочивших кредит</th>\n",
       "    </tr>\n",
       "    <tr>\n",
       "      <th class=\"index_name level0\" >children</th>\n",
       "      <th class=\"blank col0\" >&nbsp;</th>\n",
       "      <th class=\"blank col1\" >&nbsp;</th>\n",
       "      <th class=\"blank col2\" >&nbsp;</th>\n",
       "    </tr>\n",
       "  </thead>\n",
       "  <tbody>\n",
       "    <tr>\n",
       "      <th id=\"T_1bb4e_level0_row0\" class=\"row_heading level0 row0\" >4</th>\n",
       "      <td id=\"T_1bb4e_row0_col0\" class=\"data row0 col0\" >41</td>\n",
       "      <td id=\"T_1bb4e_row0_col1\" class=\"data row0 col1\" >4</td>\n",
       "      <td id=\"T_1bb4e_row0_col2\" class=\"data row0 col2\" >9.76%</td>\n",
       "    </tr>\n",
       "    <tr>\n",
       "      <th id=\"T_1bb4e_level0_row1\" class=\"row_heading level0 row1\" >2</th>\n",
       "      <td id=\"T_1bb4e_row1_col0\" class=\"data row1 col0\" >2052</td>\n",
       "      <td id=\"T_1bb4e_row1_col1\" class=\"data row1 col1\" >194</td>\n",
       "      <td id=\"T_1bb4e_row1_col2\" class=\"data row1 col2\" >9.45%</td>\n",
       "    </tr>\n",
       "    <tr>\n",
       "      <th id=\"T_1bb4e_level0_row2\" class=\"row_heading level0 row2\" >1</th>\n",
       "      <td id=\"T_1bb4e_row2_col0\" class=\"data row2 col0\" >4808</td>\n",
       "      <td id=\"T_1bb4e_row2_col1\" class=\"data row2 col1\" >444</td>\n",
       "      <td id=\"T_1bb4e_row2_col2\" class=\"data row2 col2\" >9.23%</td>\n",
       "    </tr>\n",
       "    <tr>\n",
       "      <th id=\"T_1bb4e_level0_row3\" class=\"row_heading level0 row3\" >3</th>\n",
       "      <td id=\"T_1bb4e_row3_col0\" class=\"data row3 col0\" >330</td>\n",
       "      <td id=\"T_1bb4e_row3_col1\" class=\"data row3 col1\" >27</td>\n",
       "      <td id=\"T_1bb4e_row3_col2\" class=\"data row3 col2\" >8.18%</td>\n",
       "    </tr>\n",
       "    <tr>\n",
       "      <th id=\"T_1bb4e_level0_row4\" class=\"row_heading level0 row4\" >0</th>\n",
       "      <td id=\"T_1bb4e_row4_col0\" class=\"data row4 col0\" >14091</td>\n",
       "      <td id=\"T_1bb4e_row4_col1\" class=\"data row4 col1\" >1063</td>\n",
       "      <td id=\"T_1bb4e_row4_col2\" class=\"data row4 col2\" >7.54%</td>\n",
       "    </tr>\n",
       "    <tr>\n",
       "      <th id=\"T_1bb4e_level0_row5\" class=\"row_heading level0 row5\" >5</th>\n",
       "      <td id=\"T_1bb4e_row5_col0\" class=\"data row5 col0\" >9</td>\n",
       "      <td id=\"T_1bb4e_row5_col1\" class=\"data row5 col1\" >0</td>\n",
       "      <td id=\"T_1bb4e_row5_col2\" class=\"data row5 col2\" >0.00%</td>\n",
       "    </tr>\n",
       "  </tbody>\n",
       "</table>\n"
      ],
      "text/plain": [
       "<pandas.io.formats.style.Styler at 0x20e5c1b49a0>"
      ]
     },
     "execution_count": 25,
     "metadata": {},
     "output_type": "execute_result"
    }
   ],
   "source": [
    "# Создание сводной таблицы с расчетом количества, суммы и среднего значения\n",
    "pivot_table = data.pivot_table(index='children', values='debt', aggfunc=['count', 'sum', 'mean'])\n",
    "    \n",
    "# Переименуем колонки для удобства\n",
    "pivot_table.columns = ['Количество заемщиков', 'Количество должников', 'Процент просрочивших кредит']\n",
    "                                                                         \n",
    "# Сортировка по столбцу \"Процент просрочивших кредит\"\n",
    "pivot_table = pivot_table.sort_values(by='Процент просрочивших кредит', ascending=False)                                                                         \n",
    "\n",
    "# Форматирование среднего значения как процент\n",
    "pivot_table.style.format({('Процент просрочивших кредит'): '{:.2%}'})"
   ]
  },
  {
   "cell_type": "markdown",
   "id": "1d340f05",
   "metadata": {},
   "source": [
    "Сформируем значения количества должников и заемщиков по каждой категории столбца `children`. Переименуем столбец `children` в `Количество детей`."
   ]
  },
  {
   "cell_type": "code",
   "execution_count": 26,
   "id": "3d7138cf",
   "metadata": {
    "scrolled": true
   },
   "outputs": [
    {
     "data": {
      "text/html": [
       "<style type=\"text/css\">\n",
       "</style>\n",
       "<table id=\"T_61d22\">\n",
       "  <thead>\n",
       "    <tr>\n",
       "      <th class=\"blank level0\" >&nbsp;</th>\n",
       "      <th id=\"T_61d22_level0_col0\" class=\"col_heading level0 col0\" >Количество заемщиков</th>\n",
       "      <th id=\"T_61d22_level0_col1\" class=\"col_heading level0 col1\" >Количество должников</th>\n",
       "      <th id=\"T_61d22_level0_col2\" class=\"col_heading level0 col2\" >Процент просрочивших кредит</th>\n",
       "    </tr>\n",
       "    <tr>\n",
       "      <th class=\"index_name level0\" >Количество детей</th>\n",
       "      <th class=\"blank col0\" >&nbsp;</th>\n",
       "      <th class=\"blank col1\" >&nbsp;</th>\n",
       "      <th class=\"blank col2\" >&nbsp;</th>\n",
       "    </tr>\n",
       "  </thead>\n",
       "  <tbody>\n",
       "    <tr>\n",
       "      <th id=\"T_61d22_level0_row0\" class=\"row_heading level0 row0\" >4</th>\n",
       "      <td id=\"T_61d22_row0_col0\" class=\"data row0 col0\" >41</td>\n",
       "      <td id=\"T_61d22_row0_col1\" class=\"data row0 col1\" >4</td>\n",
       "      <td id=\"T_61d22_row0_col2\" class=\"data row0 col2\" >9.76%</td>\n",
       "    </tr>\n",
       "    <tr>\n",
       "      <th id=\"T_61d22_level0_row1\" class=\"row_heading level0 row1\" >2</th>\n",
       "      <td id=\"T_61d22_row1_col0\" class=\"data row1 col0\" >2052</td>\n",
       "      <td id=\"T_61d22_row1_col1\" class=\"data row1 col1\" >194</td>\n",
       "      <td id=\"T_61d22_row1_col2\" class=\"data row1 col2\" >9.45%</td>\n",
       "    </tr>\n",
       "    <tr>\n",
       "      <th id=\"T_61d22_level0_row2\" class=\"row_heading level0 row2\" >1</th>\n",
       "      <td id=\"T_61d22_row2_col0\" class=\"data row2 col0\" >4808</td>\n",
       "      <td id=\"T_61d22_row2_col1\" class=\"data row2 col1\" >444</td>\n",
       "      <td id=\"T_61d22_row2_col2\" class=\"data row2 col2\" >9.23%</td>\n",
       "    </tr>\n",
       "    <tr>\n",
       "      <th id=\"T_61d22_level0_row3\" class=\"row_heading level0 row3\" >3</th>\n",
       "      <td id=\"T_61d22_row3_col0\" class=\"data row3 col0\" >330</td>\n",
       "      <td id=\"T_61d22_row3_col1\" class=\"data row3 col1\" >27</td>\n",
       "      <td id=\"T_61d22_row3_col2\" class=\"data row3 col2\" >8.18%</td>\n",
       "    </tr>\n",
       "    <tr>\n",
       "      <th id=\"T_61d22_level0_row4\" class=\"row_heading level0 row4\" >0</th>\n",
       "      <td id=\"T_61d22_row4_col0\" class=\"data row4 col0\" >14091</td>\n",
       "      <td id=\"T_61d22_row4_col1\" class=\"data row4 col1\" >1063</td>\n",
       "      <td id=\"T_61d22_row4_col2\" class=\"data row4 col2\" >7.54%</td>\n",
       "    </tr>\n",
       "    <tr>\n",
       "      <th id=\"T_61d22_level0_row5\" class=\"row_heading level0 row5\" >5</th>\n",
       "      <td id=\"T_61d22_row5_col0\" class=\"data row5 col0\" >9</td>\n",
       "      <td id=\"T_61d22_row5_col1\" class=\"data row5 col1\" >0</td>\n",
       "      <td id=\"T_61d22_row5_col2\" class=\"data row5 col2\" >0.00%</td>\n",
       "    </tr>\n",
       "  </tbody>\n",
       "</table>\n"
      ],
      "text/plain": [
       "<pandas.io.formats.style.Styler at 0x20e5bf26880>"
      ]
     },
     "execution_count": 26,
     "metadata": {},
     "output_type": "execute_result"
    }
   ],
   "source": [
    "#изменяем наименование столбца 'children' для лучшего восприятия\n",
    "data = data.rename(columns = {'children': 'Количество детей'})\n",
    "\n",
    "# Создание сводной таблицы с расчетом количества, суммы и среднего значения\n",
    "pivot_table = data.pivot_table(index='Количество детей', values='debt', aggfunc=['count', 'sum', 'mean'])\n",
    "    \n",
    "# Переименуем колонки для удобства\n",
    "pivot_table.columns = ['Количество заемщиков', 'Количество должников', 'Процент просрочивших кредит']\n",
    "                                                                         \n",
    "# Сортировка по столбцу \"Процент просрочивших кредит\"\n",
    "pivot_table = pivot_table.sort_values(by='Процент просрочивших кредит', ascending=False)                                                                         \n",
    "\n",
    "# Форматирование среднего значения как процент\n",
    "pivot_table.style.format({('Процент просрочивших кредит'): '{:.2%}'})\n"
   ]
  },
  {
   "cell_type": "markdown",
   "id": "1018298c",
   "metadata": {},
   "source": [
    "В группах 3,4 и 5 детей малое количество наблюдений. Объединим данные группы в одну."
   ]
  },
  {
   "cell_type": "code",
   "execution_count": 27,
   "id": "ffcc64e5",
   "metadata": {},
   "outputs": [
    {
     "data": {
      "text/html": [
       "<style type=\"text/css\">\n",
       "</style>\n",
       "<table id=\"T_4bcbf\">\n",
       "  <thead>\n",
       "    <tr>\n",
       "      <th class=\"blank level0\" >&nbsp;</th>\n",
       "      <th id=\"T_4bcbf_level0_col0\" class=\"col_heading level0 col0\" >Количество заемщиков</th>\n",
       "      <th id=\"T_4bcbf_level0_col1\" class=\"col_heading level0 col1\" >Количество должников</th>\n",
       "      <th id=\"T_4bcbf_level0_col2\" class=\"col_heading level0 col2\" >Процент просрочивших кредит</th>\n",
       "    </tr>\n",
       "    <tr>\n",
       "      <th class=\"index_name level0\" >Категория количества детей</th>\n",
       "      <th class=\"blank col0\" >&nbsp;</th>\n",
       "      <th class=\"blank col1\" >&nbsp;</th>\n",
       "      <th class=\"blank col2\" >&nbsp;</th>\n",
       "    </tr>\n",
       "  </thead>\n",
       "  <tbody>\n",
       "    <tr>\n",
       "      <th id=\"T_4bcbf_level0_row0\" class=\"row_heading level0 row0\" >2</th>\n",
       "      <td id=\"T_4bcbf_row0_col0\" class=\"data row0 col0\" >2052</td>\n",
       "      <td id=\"T_4bcbf_row0_col1\" class=\"data row0 col1\" >194</td>\n",
       "      <td id=\"T_4bcbf_row0_col2\" class=\"data row0 col2\" >9.45%</td>\n",
       "    </tr>\n",
       "    <tr>\n",
       "      <th id=\"T_4bcbf_level0_row1\" class=\"row_heading level0 row1\" >1</th>\n",
       "      <td id=\"T_4bcbf_row1_col0\" class=\"data row1 col0\" >4808</td>\n",
       "      <td id=\"T_4bcbf_row1_col1\" class=\"data row1 col1\" >444</td>\n",
       "      <td id=\"T_4bcbf_row1_col2\" class=\"data row1 col2\" >9.23%</td>\n",
       "    </tr>\n",
       "    <tr>\n",
       "      <th id=\"T_4bcbf_level0_row2\" class=\"row_heading level0 row2\" >3+</th>\n",
       "      <td id=\"T_4bcbf_row2_col0\" class=\"data row2 col0\" >380</td>\n",
       "      <td id=\"T_4bcbf_row2_col1\" class=\"data row2 col1\" >31</td>\n",
       "      <td id=\"T_4bcbf_row2_col2\" class=\"data row2 col2\" >8.16%</td>\n",
       "    </tr>\n",
       "    <tr>\n",
       "      <th id=\"T_4bcbf_level0_row3\" class=\"row_heading level0 row3\" >0</th>\n",
       "      <td id=\"T_4bcbf_row3_col0\" class=\"data row3 col0\" >14091</td>\n",
       "      <td id=\"T_4bcbf_row3_col1\" class=\"data row3 col1\" >1063</td>\n",
       "      <td id=\"T_4bcbf_row3_col2\" class=\"data row3 col2\" >7.54%</td>\n",
       "    </tr>\n",
       "  </tbody>\n",
       "</table>\n"
      ],
      "text/plain": [
       "<pandas.io.formats.style.Styler at 0x20e5bf26b80>"
      ]
     },
     "execution_count": 27,
     "metadata": {},
     "output_type": "execute_result"
    }
   ],
   "source": [
    "#создадим функцию для объединения по категориям\n",
    "def children_category(children):\n",
    "    try:\n",
    "        if children==3 or children==4 or children==5:\n",
    "            return '3+'\n",
    "        elif children==2:\n",
    "            return '2'\n",
    "        elif children==1:\n",
    "            return '1'\n",
    "        elif children==0:\n",
    "            return '0'\n",
    "    except:\n",
    "        return 'нет категории'\n",
    "data['Категория количества детей'] = data['Количество детей'].apply(children_category)\n",
    "\n",
    "# Создание сводной таблицы с расчетом количества, суммы и среднего значения\n",
    "pivot_table = data.pivot_table(index='Категория количества детей', values='debt', aggfunc=['count', 'sum', 'mean'])\n",
    "    \n",
    "# Переименуем колонки для удобства\n",
    "pivot_table.columns = ['Количество заемщиков', 'Количество должников', 'Процент просрочивших кредит']\n",
    "                                                                         \n",
    "# Сортировка по столбцу \"Процент просрочивших кредит\"\n",
    "pivot_table = pivot_table.sort_values(by='Процент просрочивших кредит', ascending=False)                                                                         \n",
    "\n",
    "# Форматирование среднего значения как процент\n",
    "pivot_table.style.format({('Процент просрочивших кредит'): '{:.2%}'})"
   ]
  },
  {
   "cell_type": "markdown",
   "id": "1a1e349b",
   "metadata": {
    "deletable": false,
    "id": "3a6b99ec"
   },
   "source": [
    "**Вывод:** "
   ]
  },
  {
   "cell_type": "markdown",
   "id": "ed554154",
   "metadata": {},
   "source": [
    "<div style=\"border:solid green 2px; padding: 20px\">\n",
    "Наблюдается зависимость между количеством детей и возможностью возврата кредита по группам бездетные заемщики, заемщики с одним ребенком и двумя. Группа с количеством дете 3+ имеет малое количество наблюдений и не репрезентативна."
   ]
  },
  {
   "cell_type": "markdown",
   "id": "66044c62",
   "metadata": {
    "deletable": false,
    "editable": false,
    "id": "97be82ca"
   },
   "source": [
    "#### 3.2 Есть ли зависимость между семейным положением и возвратом кредита в срок?"
   ]
  },
  {
   "cell_type": "markdown",
   "id": "f5200ed7",
   "metadata": {},
   "source": [
    "Теперь необходимо выявить или подтвердить отсутствие зависимости между семеным положением заемщика и возврата кредита в срок."
   ]
  },
  {
   "cell_type": "markdown",
   "id": "7e0ce5dd",
   "metadata": {},
   "source": [
    "Проанализируем уникальные значения в столбце `family_status`"
   ]
  },
  {
   "cell_type": "code",
   "execution_count": 28,
   "id": "7ce9d273",
   "metadata": {
    "deletable": false,
    "id": "dc3f7ee8",
    "scrolled": true
   },
   "outputs": [
    {
     "name": "stdout",
     "output_type": "stream",
     "text": [
      "['женат / замужем' 'гражданский брак' 'вдовец / вдова' 'в разводе'\n",
      " 'Не женат / не замужем']\n"
     ]
    }
   ],
   "source": [
    "print(data['family_status'].unique())"
   ]
  },
  {
   "cell_type": "markdown",
   "id": "3575515b",
   "metadata": {},
   "source": [
    "Артефактов и аномалий не присутствует. Анализ можно проводить."
   ]
  },
  {
   "cell_type": "markdown",
   "id": "37e9229f",
   "metadata": {},
   "source": [
    "Сфомируем количество заемщиков и количество должников по каждой группе семейного статуса. Переименуем столбец `family_status` в `Семейное положение`."
   ]
  },
  {
   "cell_type": "code",
   "execution_count": 29,
   "id": "5aa71339",
   "metadata": {
    "scrolled": true
   },
   "outputs": [
    {
     "data": {
      "text/html": [
       "<style type=\"text/css\">\n",
       "</style>\n",
       "<table id=\"T_0a9b2\">\n",
       "  <thead>\n",
       "    <tr>\n",
       "      <th class=\"blank level0\" >&nbsp;</th>\n",
       "      <th id=\"T_0a9b2_level0_col0\" class=\"col_heading level0 col0\" >Количество заемщиков</th>\n",
       "      <th id=\"T_0a9b2_level0_col1\" class=\"col_heading level0 col1\" >Количество должников</th>\n",
       "      <th id=\"T_0a9b2_level0_col2\" class=\"col_heading level0 col2\" >Процент просрочивших кредит</th>\n",
       "    </tr>\n",
       "    <tr>\n",
       "      <th class=\"index_name level0\" >Семейное положение</th>\n",
       "      <th class=\"blank col0\" >&nbsp;</th>\n",
       "      <th class=\"blank col1\" >&nbsp;</th>\n",
       "      <th class=\"blank col2\" >&nbsp;</th>\n",
       "    </tr>\n",
       "  </thead>\n",
       "  <tbody>\n",
       "    <tr>\n",
       "      <th id=\"T_0a9b2_level0_row0\" class=\"row_heading level0 row0\" >Не женат / не замужем</th>\n",
       "      <td id=\"T_0a9b2_row0_col0\" class=\"data row0 col0\" >2796</td>\n",
       "      <td id=\"T_0a9b2_row0_col1\" class=\"data row0 col1\" >273</td>\n",
       "      <td id=\"T_0a9b2_row0_col2\" class=\"data row0 col2\" >9.76%</td>\n",
       "    </tr>\n",
       "    <tr>\n",
       "      <th id=\"T_0a9b2_level0_row1\" class=\"row_heading level0 row1\" >гражданский брак</th>\n",
       "      <td id=\"T_0a9b2_row1_col0\" class=\"data row1 col0\" >4134</td>\n",
       "      <td id=\"T_0a9b2_row1_col1\" class=\"data row1 col1\" >385</td>\n",
       "      <td id=\"T_0a9b2_row1_col2\" class=\"data row1 col2\" >9.31%</td>\n",
       "    </tr>\n",
       "    <tr>\n",
       "      <th id=\"T_0a9b2_level0_row2\" class=\"row_heading level0 row2\" >женат / замужем</th>\n",
       "      <td id=\"T_0a9b2_row2_col0\" class=\"data row2 col0\" >12261</td>\n",
       "      <td id=\"T_0a9b2_row2_col1\" class=\"data row2 col1\" >927</td>\n",
       "      <td id=\"T_0a9b2_row2_col2\" class=\"data row2 col2\" >7.56%</td>\n",
       "    </tr>\n",
       "    <tr>\n",
       "      <th id=\"T_0a9b2_level0_row3\" class=\"row_heading level0 row3\" >в разводе</th>\n",
       "      <td id=\"T_0a9b2_row3_col0\" class=\"data row3 col0\" >1189</td>\n",
       "      <td id=\"T_0a9b2_row3_col1\" class=\"data row3 col1\" >84</td>\n",
       "      <td id=\"T_0a9b2_row3_col2\" class=\"data row3 col2\" >7.06%</td>\n",
       "    </tr>\n",
       "    <tr>\n",
       "      <th id=\"T_0a9b2_level0_row4\" class=\"row_heading level0 row4\" >вдовец / вдова</th>\n",
       "      <td id=\"T_0a9b2_row4_col0\" class=\"data row4 col0\" >951</td>\n",
       "      <td id=\"T_0a9b2_row4_col1\" class=\"data row4 col1\" >63</td>\n",
       "      <td id=\"T_0a9b2_row4_col2\" class=\"data row4 col2\" >6.62%</td>\n",
       "    </tr>\n",
       "  </tbody>\n",
       "</table>\n"
      ],
      "text/plain": [
       "<pandas.io.formats.style.Styler at 0x20e5bea08e0>"
      ]
     },
     "execution_count": 29,
     "metadata": {},
     "output_type": "execute_result"
    }
   ],
   "source": [
    "#изменяем наименование столбца 'family_status' для лучшего восприятия\n",
    "data = data.rename(columns = {'family_status': 'Семейное положение'})\n",
    "\n",
    "# Создание сводной таблицы с расчетом количества, суммы и среднего значения\n",
    "pivot_table = data.pivot_table(index='Семейное положение', values='debt', aggfunc=['count', 'sum', 'mean'])\n",
    "    \n",
    "# Переименуем колонки для удобства\n",
    "pivot_table.columns = ['Количество заемщиков', 'Количество должников', 'Процент просрочивших кредит']\n",
    "                                                                         \n",
    "# Сортировка по столбцу \"Процент просрочивших кредит\"\n",
    "pivot_table = pivot_table.sort_values(by='Процент просрочивших кредит', ascending=False)                                                                         \n",
    "\n",
    "# Форматирование среднего значения как процент\n",
    "pivot_table.style.format({('Процент просрочивших кредит'): '{:.2%}'})\n"
   ]
  },
  {
   "cell_type": "markdown",
   "id": "c2e9db6d",
   "metadata": {},
   "source": [
    "Группы `в разводе` и `вдовец / вдова` имеют малое количество наблюдений. Объединим данные из этих групп с данными из группы `женат/замужем`. Создадим две категории: `состояли/состоят в браке` и `не состояли в браке`."
   ]
  },
  {
   "cell_type": "code",
   "execution_count": 30,
   "id": "2b71fdaf",
   "metadata": {},
   "outputs": [
    {
     "data": {
      "text/html": [
       "<style type=\"text/css\">\n",
       "</style>\n",
       "<table id=\"T_3dfa4\">\n",
       "  <thead>\n",
       "    <tr>\n",
       "      <th class=\"blank level0\" >&nbsp;</th>\n",
       "      <th id=\"T_3dfa4_level0_col0\" class=\"col_heading level0 col0\" >Количество заемщиков</th>\n",
       "      <th id=\"T_3dfa4_level0_col1\" class=\"col_heading level0 col1\" >Количество должников</th>\n",
       "      <th id=\"T_3dfa4_level0_col2\" class=\"col_heading level0 col2\" >Процент просрочивших кредит</th>\n",
       "    </tr>\n",
       "    <tr>\n",
       "      <th class=\"index_name level0\" >Категория семейного положения</th>\n",
       "      <th class=\"blank col0\" >&nbsp;</th>\n",
       "      <th class=\"blank col1\" >&nbsp;</th>\n",
       "      <th class=\"blank col2\" >&nbsp;</th>\n",
       "    </tr>\n",
       "  </thead>\n",
       "  <tbody>\n",
       "    <tr>\n",
       "      <th id=\"T_3dfa4_level0_row0\" class=\"row_heading level0 row0\" >не состояли в браке</th>\n",
       "      <td id=\"T_3dfa4_row0_col0\" class=\"data row0 col0\" >6930</td>\n",
       "      <td id=\"T_3dfa4_row0_col1\" class=\"data row0 col1\" >658</td>\n",
       "      <td id=\"T_3dfa4_row0_col2\" class=\"data row0 col2\" >9.49%</td>\n",
       "    </tr>\n",
       "    <tr>\n",
       "      <th id=\"T_3dfa4_level0_row1\" class=\"row_heading level0 row1\" >состояли/состоят в браке</th>\n",
       "      <td id=\"T_3dfa4_row1_col0\" class=\"data row1 col0\" >14401</td>\n",
       "      <td id=\"T_3dfa4_row1_col1\" class=\"data row1 col1\" >1074</td>\n",
       "      <td id=\"T_3dfa4_row1_col2\" class=\"data row1 col2\" >7.46%</td>\n",
       "    </tr>\n",
       "  </tbody>\n",
       "</table>\n"
      ],
      "text/plain": [
       "<pandas.io.formats.style.Styler at 0x20e5be5ad90>"
      ]
     },
     "execution_count": 30,
     "metadata": {},
     "output_type": "execute_result"
    }
   ],
   "source": [
    "#создадим функцию для объединения по категориям\n",
    "def family_category(status):\n",
    "    try:\n",
    "        if status=='женат / замужем' or status=='в разводе' or status=='вдовец / вдова':\n",
    "            return 'состояли/состоят в браке'    \n",
    "        elif status=='Не женат / не замужем' or status=='гражданский брак':\n",
    "            return 'не состояли в браке'\n",
    "    except:\n",
    "        return 'нет категории'\n",
    "data['Категория семейного положения'] = data['Семейное положение'].apply(family_category)\n",
    "\n",
    "# Создание сводной таблицы с расчетом количества, суммы и среднего значения\n",
    "pivot_table = data.pivot_table(index='Категория семейного положения', values='debt', aggfunc=['count', 'sum', 'mean'])\n",
    "    \n",
    "# Переименуем колонки для удобства\n",
    "pivot_table.columns = ['Количество заемщиков', 'Количество должников', 'Процент просрочивших кредит']\n",
    "                                                                         \n",
    "# Сортировка по столбцу \"Процент просрочивших кредит\"\n",
    "pivot_table = pivot_table.sort_values(by='Процент просрочивших кредит', ascending=False)                                                                         \n",
    "\n",
    "# Форматирование среднего значения как процент\n",
    "pivot_table.style.format({('Процент просрочивших кредит'): '{:.2%}'})"
   ]
  },
  {
   "cell_type": "markdown",
   "id": "1ac031f9",
   "metadata": {
    "deletable": false,
    "id": "1cef7837"
   },
   "source": [
    "**Вывод:** "
   ]
  },
  {
   "cell_type": "markdown",
   "id": "2cd50f4f",
   "metadata": {},
   "source": [
    "<div style=\"border:solid green 2px; padding: 20px\">\n",
    "У заемщиков, которые состояли в браке, наблюдается меньшее количество задолженностей в процентном соотношении. Вероятно, это связано с тем, люди, находясь в браке на данный момент или находившиеся в браке ранее, понимают, что последствия невозврата задолженности скажется не только на них самих, но и на членах семьи в соответствии, как минимум, с законодательством страны."
   ]
  },
  {
   "cell_type": "markdown",
   "id": "5e7ca137",
   "metadata": {
    "deletable": false,
    "editable": false,
    "id": "1e8b2fca"
   },
   "source": [
    "#### 3.3 Есть ли зависимость между уровнем дохода и возвратом кредита в срок?"
   ]
  },
  {
   "cell_type": "markdown",
   "id": "bff21928",
   "metadata": {},
   "source": [
    "Изначально предполагается, что людям с большим уровнем дохода гораздо проще погасить кредит. Но люди с большим уровнем дохода также не всегда сопоставляют свои желания с возможностями. Проведем анализ, чтобы подвердить тут или иную гипозитезу. В качестве напоминания:\n",
    "- заемщики с доходом 0–30000 — категория `'E'`;\n",
    "- заемщики с доходом 30001–50000 — категория `'D'`;\n",
    "- заемщики с доходом 50001–200000 — категория `'C'`;\n",
    "- заемщики с доходом 200001–1000000 — категория `'B'`;\n",
    "- заемщики с доходом 1000001 и выше — категория `'A'`.\n"
   ]
  },
  {
   "cell_type": "markdown",
   "id": "fe4717ca",
   "metadata": {},
   "source": [
    "Проанализируем количество должников и заемщиков для каждой категории доходов. Переименуем столбец `total_inocme_category` в `Доход`."
   ]
  },
  {
   "cell_type": "code",
   "execution_count": 31,
   "id": "39ad34cb",
   "metadata": {
    "deletable": false,
    "id": "cd7e3720",
    "scrolled": false
   },
   "outputs": [
    {
     "data": {
      "text/html": [
       "<style type=\"text/css\">\n",
       "</style>\n",
       "<table id=\"T_e93ce\">\n",
       "  <thead>\n",
       "    <tr>\n",
       "      <th class=\"blank level0\" >&nbsp;</th>\n",
       "      <th id=\"T_e93ce_level0_col0\" class=\"col_heading level0 col0\" >Количество заемщиков</th>\n",
       "      <th id=\"T_e93ce_level0_col1\" class=\"col_heading level0 col1\" >Количество должников</th>\n",
       "      <th id=\"T_e93ce_level0_col2\" class=\"col_heading level0 col2\" >Процент просрочивших кредит</th>\n",
       "    </tr>\n",
       "    <tr>\n",
       "      <th class=\"index_name level0\" >Доход</th>\n",
       "      <th class=\"blank col0\" >&nbsp;</th>\n",
       "      <th class=\"blank col1\" >&nbsp;</th>\n",
       "      <th class=\"blank col2\" >&nbsp;</th>\n",
       "    </tr>\n",
       "  </thead>\n",
       "  <tbody>\n",
       "    <tr>\n",
       "      <th id=\"T_e93ce_level0_row0\" class=\"row_heading level0 row0\" >E</th>\n",
       "      <td id=\"T_e93ce_row0_col0\" class=\"data row0 col0\" >22</td>\n",
       "      <td id=\"T_e93ce_row0_col1\" class=\"data row0 col1\" >2</td>\n",
       "      <td id=\"T_e93ce_row0_col2\" class=\"data row0 col2\" >9.09%</td>\n",
       "    </tr>\n",
       "    <tr>\n",
       "      <th id=\"T_e93ce_level0_row1\" class=\"row_heading level0 row1\" >C</th>\n",
       "      <td id=\"T_e93ce_row1_col0\" class=\"data row1 col0\" >15921</td>\n",
       "      <td id=\"T_e93ce_row1_col1\" class=\"data row1 col1\" >1353</td>\n",
       "      <td id=\"T_e93ce_row1_col2\" class=\"data row1 col2\" >8.50%</td>\n",
       "    </tr>\n",
       "    <tr>\n",
       "      <th id=\"T_e93ce_level0_row2\" class=\"row_heading level0 row2\" >A</th>\n",
       "      <td id=\"T_e93ce_row2_col0\" class=\"data row2 col0\" >25</td>\n",
       "      <td id=\"T_e93ce_row2_col1\" class=\"data row2 col1\" >2</td>\n",
       "      <td id=\"T_e93ce_row2_col2\" class=\"data row2 col2\" >8.00%</td>\n",
       "    </tr>\n",
       "    <tr>\n",
       "      <th id=\"T_e93ce_level0_row3\" class=\"row_heading level0 row3\" >B</th>\n",
       "      <td id=\"T_e93ce_row3_col0\" class=\"data row3 col0\" >5014</td>\n",
       "      <td id=\"T_e93ce_row3_col1\" class=\"data row3 col1\" >354</td>\n",
       "      <td id=\"T_e93ce_row3_col2\" class=\"data row3 col2\" >7.06%</td>\n",
       "    </tr>\n",
       "    <tr>\n",
       "      <th id=\"T_e93ce_level0_row4\" class=\"row_heading level0 row4\" >D</th>\n",
       "      <td id=\"T_e93ce_row4_col0\" class=\"data row4 col0\" >349</td>\n",
       "      <td id=\"T_e93ce_row4_col1\" class=\"data row4 col1\" >21</td>\n",
       "      <td id=\"T_e93ce_row4_col2\" class=\"data row4 col2\" >6.02%</td>\n",
       "    </tr>\n",
       "  </tbody>\n",
       "</table>\n"
      ],
      "text/plain": [
       "<pandas.io.formats.style.Styler at 0x20e5c18f190>"
      ]
     },
     "execution_count": 31,
     "metadata": {},
     "output_type": "execute_result"
    }
   ],
   "source": [
    "#изменяем наименование столбца 'total_income_category' для лучшего восприятия\n",
    "data = data.rename(columns = {'total_income_category': 'Доход'})\n",
    "\n",
    "# Создание сводной таблицы с расчетом количества, суммы и среднего значения\n",
    "pivot_table = data.pivot_table(index='Доход', values='debt', aggfunc=['count', 'sum', 'mean'])\n",
    "    \n",
    "# Переименуем колонки для удобства\n",
    "pivot_table.columns = ['Количество заемщиков', 'Количество должников', 'Процент просрочивших кредит']\n",
    "                                                                         \n",
    "# Сортировка по столбцу \"Процент просрочивших кредит\"\n",
    "pivot_table = pivot_table.sort_values(by='Процент просрочивших кредит', ascending=False)                                                                         \n",
    "\n",
    "# Форматирование среднего значения как процент\n",
    "pivot_table.style.format({('Процент просрочивших кредит'): '{:.2%}'})"
   ]
  },
  {
   "cell_type": "markdown",
   "id": "39618ba6",
   "metadata": {},
   "source": [
    "Категории `A`, `E` и `D` имеют малое количество наблюдений для выявления зависимости. Объединим категории `A` и `B`, а также категории `C`,`D` и `E`."
   ]
  },
  {
   "cell_type": "code",
   "execution_count": 32,
   "id": "16e72c9c",
   "metadata": {},
   "outputs": [
    {
     "data": {
      "text/html": [
       "<style type=\"text/css\">\n",
       "</style>\n",
       "<table id=\"T_2e65a\">\n",
       "  <thead>\n",
       "    <tr>\n",
       "      <th class=\"blank level0\" >&nbsp;</th>\n",
       "      <th id=\"T_2e65a_level0_col0\" class=\"col_heading level0 col0\" >Количество заемщиков</th>\n",
       "      <th id=\"T_2e65a_level0_col1\" class=\"col_heading level0 col1\" >Количество должников</th>\n",
       "      <th id=\"T_2e65a_level0_col2\" class=\"col_heading level0 col2\" >Процент просрочивших кредит</th>\n",
       "    </tr>\n",
       "    <tr>\n",
       "      <th class=\"index_name level0\" >Категория дохода</th>\n",
       "      <th class=\"blank col0\" >&nbsp;</th>\n",
       "      <th class=\"blank col1\" >&nbsp;</th>\n",
       "      <th class=\"blank col2\" >&nbsp;</th>\n",
       "    </tr>\n",
       "  </thead>\n",
       "  <tbody>\n",
       "    <tr>\n",
       "      <th id=\"T_2e65a_level0_row0\" class=\"row_heading level0 row0\" >C,D,E</th>\n",
       "      <td id=\"T_2e65a_row0_col0\" class=\"data row0 col0\" >16292</td>\n",
       "      <td id=\"T_2e65a_row0_col1\" class=\"data row0 col1\" >1376</td>\n",
       "      <td id=\"T_2e65a_row0_col2\" class=\"data row0 col2\" >8.45%</td>\n",
       "    </tr>\n",
       "    <tr>\n",
       "      <th id=\"T_2e65a_level0_row1\" class=\"row_heading level0 row1\" >A,B</th>\n",
       "      <td id=\"T_2e65a_row1_col0\" class=\"data row1 col0\" >5039</td>\n",
       "      <td id=\"T_2e65a_row1_col1\" class=\"data row1 col1\" >356</td>\n",
       "      <td id=\"T_2e65a_row1_col2\" class=\"data row1 col2\" >7.06%</td>\n",
       "    </tr>\n",
       "  </tbody>\n",
       "</table>\n"
      ],
      "text/plain": [
       "<pandas.io.formats.style.Styler at 0x20e5be5ad00>"
      ]
     },
     "execution_count": 32,
     "metadata": {},
     "output_type": "execute_result"
    }
   ],
   "source": [
    "#создадим функцию для объединения по категориям\n",
    "def income_category(income):\n",
    "    try:\n",
    "        if income=='A' or income=='B':\n",
    "            return 'A,B'    \n",
    "        elif income=='C' or income=='D' or income=='E':\n",
    "            return 'C,D,E'\n",
    "    except:\n",
    "        return 'нет категории'\n",
    "data['Категория дохода'] = data['Доход'].apply(income_category)\n",
    "\n",
    "# Создание сводной таблицы с расчетом количества, суммы и среднего значения\n",
    "pivot_table = data.pivot_table(index='Категория дохода', values='debt', aggfunc=['count', 'sum', 'mean'])\n",
    "    \n",
    "# Переименуем колонки для удобства\n",
    "pivot_table.columns = ['Количество заемщиков', 'Количество должников', 'Процент просрочивших кредит']\n",
    "                                                                         \n",
    "# Сортировка по столбцу \"Процент просрочивших кредит\"\n",
    "pivot_table = pivot_table.sort_values(by='Процент просрочивших кредит', ascending=False)                                                                         \n",
    "\n",
    "# Форматирование среднего значения как процент\n",
    "pivot_table.style.format({('Процент просрочивших кредит'): '{:.2%}'})"
   ]
  },
  {
   "cell_type": "markdown",
   "id": "e8b1eeef",
   "metadata": {
    "deletable": false,
    "id": "e8593def"
   },
   "source": [
    "**Вывод:** "
   ]
  },
  {
   "cell_type": "markdown",
   "id": "b4dd524f",
   "metadata": {},
   "source": [
    "<div style=\"border:solid green 2px; padding: 20px\">\n",
    "Предположение подтвердилось. Наиболее проблемными являются заемщики с меньшим доходом. Банку нужно быть очень осторожным с этой группой. У них самый большой уровень невозврата. Может возникнуть ситуация, когда у заемщика не будет никакой возможности вернуть кредит. Необходимо дополнительно уточнять наличие активов, которые могут быть реализованы для погашения долга. Хотя и это проблематично в условиях законодательства страны."
   ]
  },
  {
   "cell_type": "markdown",
   "id": "2a44f10a",
   "metadata": {
    "deletable": false,
    "editable": false,
    "id": "99ecbd1f"
   },
   "source": [
    "#### 3.4 Как разные цели кредита влияют на его возврат в срок?"
   ]
  },
  {
   "cell_type": "markdown",
   "id": "a80de412",
   "metadata": {},
   "source": [
    "В данной части исследования нельзя сделать никаких предположений. Предполагается, что свадьба и образование - заведомо проигрышные варианты для кредита, в отличии от приобретения автомобиля и недвижимости, которые могут работать в качестве актива заемщика, принося доход."
   ]
  },
  {
   "cell_type": "code",
   "execution_count": 33,
   "id": "4fab9e53",
   "metadata": {
    "deletable": false,
    "id": "2b687290",
    "scrolled": true
   },
   "outputs": [
    {
     "data": {
      "text/html": [
       "<style type=\"text/css\">\n",
       "</style>\n",
       "<table id=\"T_8de3b\">\n",
       "  <thead>\n",
       "    <tr>\n",
       "      <th class=\"blank level0\" >&nbsp;</th>\n",
       "      <th id=\"T_8de3b_level0_col0\" class=\"col_heading level0 col0\" >Количество заемщиков</th>\n",
       "      <th id=\"T_8de3b_level0_col1\" class=\"col_heading level0 col1\" >Количество должников</th>\n",
       "      <th id=\"T_8de3b_level0_col2\" class=\"col_heading level0 col2\" >Процент просрочивших кредит</th>\n",
       "    </tr>\n",
       "    <tr>\n",
       "      <th class=\"index_name level0\" >Цель кредита</th>\n",
       "      <th class=\"blank col0\" >&nbsp;</th>\n",
       "      <th class=\"blank col1\" >&nbsp;</th>\n",
       "      <th class=\"blank col2\" >&nbsp;</th>\n",
       "    </tr>\n",
       "  </thead>\n",
       "  <tbody>\n",
       "    <tr>\n",
       "      <th id=\"T_8de3b_level0_row0\" class=\"row_heading level0 row0\" >операции с автомобилем</th>\n",
       "      <td id=\"T_8de3b_row0_col0\" class=\"data row0 col0\" >4279</td>\n",
       "      <td id=\"T_8de3b_row0_col1\" class=\"data row0 col1\" >400</td>\n",
       "      <td id=\"T_8de3b_row0_col2\" class=\"data row0 col2\" >9.35%</td>\n",
       "    </tr>\n",
       "    <tr>\n",
       "      <th id=\"T_8de3b_level0_row1\" class=\"row_heading level0 row1\" >получение образования</th>\n",
       "      <td id=\"T_8de3b_row1_col0\" class=\"data row1 col0\" >3988</td>\n",
       "      <td id=\"T_8de3b_row1_col1\" class=\"data row1 col1\" >369</td>\n",
       "      <td id=\"T_8de3b_row1_col2\" class=\"data row1 col2\" >9.25%</td>\n",
       "    </tr>\n",
       "    <tr>\n",
       "      <th id=\"T_8de3b_level0_row2\" class=\"row_heading level0 row2\" >проведение свадьбы</th>\n",
       "      <td id=\"T_8de3b_row2_col0\" class=\"data row2 col0\" >2313</td>\n",
       "      <td id=\"T_8de3b_row2_col1\" class=\"data row2 col1\" >183</td>\n",
       "      <td id=\"T_8de3b_row2_col2\" class=\"data row2 col2\" >7.91%</td>\n",
       "    </tr>\n",
       "    <tr>\n",
       "      <th id=\"T_8de3b_level0_row3\" class=\"row_heading level0 row3\" >операции с недвижимостью</th>\n",
       "      <td id=\"T_8de3b_row3_col0\" class=\"data row3 col0\" >10751</td>\n",
       "      <td id=\"T_8de3b_row3_col1\" class=\"data row3 col1\" >780</td>\n",
       "      <td id=\"T_8de3b_row3_col2\" class=\"data row3 col2\" >7.26%</td>\n",
       "    </tr>\n",
       "  </tbody>\n",
       "</table>\n"
      ],
      "text/plain": [
       "<pandas.io.formats.style.Styler at 0x20e5be5acd0>"
      ]
     },
     "execution_count": 33,
     "metadata": {},
     "output_type": "execute_result"
    }
   ],
   "source": [
    "#изменяем наименование столбца 'purpose_category' для лучшего восприятия\n",
    "data = data.rename(columns = {'purpose_category': 'Цель кредита'})\n",
    "\n",
    "# Создание сводной таблицы с расчетом количества, суммы и среднего значения\n",
    "pivot_table = data.pivot_table(index='Цель кредита', values='debt', aggfunc=['count', 'sum', 'mean'])\n",
    "    \n",
    "# Переименуем колонки для удобства\n",
    "pivot_table.columns = ['Количество заемщиков', 'Количество должников', 'Процент просрочивших кредит']\n",
    "                                                                         \n",
    "# Сортировка по столбцу \"Процент просрочивших кредит\"\n",
    "pivot_table = pivot_table.sort_values(by='Процент просрочивших кредит', ascending=False)                                                                         \n",
    "\n",
    "# Форматирование среднего значения как процент\n",
    "pivot_table.style.format({('Процент просрочивших кредит'): '{:.2%}'})"
   ]
  },
  {
   "cell_type": "markdown",
   "id": "20608b68",
   "metadata": {
    "deletable": false,
    "id": "b4bb2ce6"
   },
   "source": [
    "**Вывод:** "
   ]
  },
  {
   "cell_type": "markdown",
   "id": "3ba84108",
   "metadata": {},
   "source": [
    "<div style=\"border:solid green 2px; padding: 20px\">\n",
    "Часть предположения все-таки подтвердилась. У операций с недвижимостью наименьший процент невозвратов. Предположительно, это связано с тем, что недвижимость может использоваться как актив, приносящий доход. Тут банку было бы хорошо внести дополнительное исследование, на какой тип недвижимости берется кредит (доходоприносящий или нет). Возможно, раскрытие этих данных поможет снизить процент невозвратов. Две группы 'получение образования' и 'проведение свадьбы' свет на ситуацию не проливают. Необходимо проводить более детальный анализ типа заемщика, доходов и пр. 'Операции с автомобилем' - самая большая группа по невозврату кредитов. Вероятно, автомобили в данном случае используются именно, как собственное средство передвижения, а не как часть бизнеса."
   ]
  },
  {
   "cell_type": "markdown",
   "id": "641086d0",
   "metadata": {
    "deletable": false,
    "editable": false,
    "id": "09c3ac4c"
   },
   "source": [
    "#### 3.5 Приведите возможные причины появления пропусков в исходных данных."
   ]
  },
  {
   "cell_type": "markdown",
   "id": "3f562c3f",
   "metadata": {
    "deletable": false,
    "id": "9da2ceda"
   },
   "source": [
    "*Ответ:* "
   ]
  },
  {
   "cell_type": "markdown",
   "id": "b0587971",
   "metadata": {},
   "source": [
    "<div style=\"border:solid green 2px; padding: 20px\">\n",
    "Основная проблема, вероятно, состоит в том, что эти данные не были внесены самим заемщиком. На втором месте по вероятности, что эти данные не были внесены специалистом банка. Проблему исправит отладка программного обеспечения по принципу: есть пропуски в данных, заявление на кредит не отправляется на обработку. Но тут возможен риск появления артефактов, с которыми предстоит в дальнейшем работать. Необходимо также обратить внимание на работу прогрраммного обеспечения, при помощи которого данные вводятся в систему. Внимание вызывает то, что количество пропусков одинаковое. Это все-таки либо техническая особенность программного обеспечения, с которым нужно работать, либо человек не хотел/забыл внести данные."
   ]
  },
  {
   "cell_type": "markdown",
   "id": "2c1b18a7",
   "metadata": {
    "deletable": false,
    "editable": false,
    "id": "7b0487d6"
   },
   "source": [
    "#### 3.6 Объясните, почему заполнить пропуски медианным значением — лучшее решение для количественных переменных."
   ]
  },
  {
   "cell_type": "markdown",
   "id": "e7f1130c",
   "metadata": {
    "deletable": false,
    "id": "7ecf2b8e"
   },
   "source": [
    "*Ответ:* "
   ]
  },
  {
   "cell_type": "markdown",
   "id": "094a058c",
   "metadata": {},
   "source": [
    "<div style=\"border:solid green 2px; padding: 20px\">\n",
    "Медиана устойчивее к выбросам данных, которые значительно отличаются от основного массива выборки. В наборе данных с равномерным распределением небольшое число экстремальных значений, таких как очень высокие или низкие числа, значительно повлияет на среднее арифметическое, а медиана в таком случае останется относительно стабильной.\n",
    "Среднее значение не учитывает разброс. Соответственно, среднее значение является менее показательным."
   ]
  },
  {
   "cell_type": "markdown",
   "id": "9697ed0e",
   "metadata": {
    "deletable": false,
    "editable": false,
    "id": "6db5255a"
   },
   "source": [
    "### Шаг 4: общий вывод."
   ]
  },
  {
   "cell_type": "markdown",
   "id": "182bed7a",
   "metadata": {
    "deletable": false,
    "id": "bad65432"
   },
   "source": [
    "Напишите ваш общий вывод."
   ]
  },
  {
   "cell_type": "markdown",
   "id": "82d1a452",
   "metadata": {},
   "source": [
    "<div style=\"border:solid green 2px; padding: 20px\">\n",
    "В рамках исследования необходимо было разобраться, влияет ли семейное положение, уровень дохода, цель кредита и количество детей у заемщика на факт погашения кредита в срок.\n",
    "    \n",
    "В результате исследования были реализованы следующие этапы, и сделаны определенные наблюдения и выводы:\n",
    "\n",
    "**удаление пропусков:** обнаружены пропуски в двух столбцах `days_employed` и `total_income`. Необходимо обратить внимание на этот момент. Количество пропусков в столбцах одинаково. Это может быть результатом либо человеческого фактора, либо баг в программном обеспечении. В первом случае проблему исправит отладка программного обеспечения по принципу: есть пропуски в данных, заявление на кредит не отправляется на обработку. Но тут возможен риск появления артефактов, с которыми предстоит в дальнейшем работать. Пропуски в столбцах `days_employed` и `total_income` были заменены медианными значениями, т.к. медиана устойчивее к выбросам данных, которые значительно отличаются от основного массива выборки. \n",
    "\n",
    "**артефакты и аномалии:** у двух типов (безработные и пенсионеры) выявлены аномально большие значения медианного уровня дохода, а в столбце `children` обанаружены не только слишком большие значения, которые вызывают сомнения, но и отрицательные, чего быть не может. Медианный уровень дохода в группах 'безработные' и 'пенсионеры' в данном исследовании не рассматривался. Наблюдения с артефакторными значениями из группы `children` были исключены.\n",
    "    \n",
    "**замена вещественного типа данных:** в столбце `total_income` обнаружен тип значений float64. Для дальнейшей обработки тип значений был заменен на целочисленный int.\n",
    "    \n",
    "**приведение данных к единому регистру:** для полноценной обработки данных значения столбцов были приведены к единому (нижнему) регистру (в частности у столбца `education`).\n",
    "    \n",
    "**удаление дубликатов:** в данных обнаружены дубликаты (71 запись). Для дальнейшей качественной обработки и получения верных данных дубликаты были удалены. Был применен метод `duplicated()`, дубликаты были полными. Применение поиска дубликатов только по столбцам может привести к искажению результатов. Появление таких дубликатов также возможно в результате человеческого фактора и машинного сбоя.\n",
    "    \n",
    "**категоризация доходов:** в столбце значений `total_income` слишком много различных значений. Было принято решение объединить значениия в 5 категорий:\n",
    "    \n",
    "    - 0–30000 — 'E';\n",
    "    - 30001–50000 — 'D';\n",
    "    - 50001–200000 — 'C';\n",
    "    - 200001–1000000 — 'B';\n",
    "    - 1000001 и выше — 'A'.\n",
    "    \n",
    "**категоризация целей кредита:** ввиду того, что заемщики обычно сами формулируют цель кредита, то записи в столбце `purpose` могут быть различными, что усложняет исследование. Но, как показал анализ предоставленных данных, имеются обобщающие слова, по которым можно объединить данные в 4 группы:\n",
    "    \n",
    "    - 'операции с автомобилем',\n",
    "    - 'операции с недвижимостью',\n",
    "    - 'проведение свадьбы',\n",
    "    - 'получение образования'.\n",
    "    \n",
    "Это и было сделано. В категорию 'операции с автомобилем' попали цели, в которых содержалась подстрока \"авто\", в категорию 'операции с недвижимостью' - цели с содержанием подстрок \"недвиж\" и \"жил\", в категорию 'проведение свадьбы' - цели с содержанием подстроки \"свад\", в категорию 'получение образования' - цели с содержанием подстроки \"образов\".\n",
    "    \n",
    "**выявление зависимости (или ее отсутствия) между количеством детей у заемщика и возвратом кредита в срок:** в результате анализа была выявлена зависимость между количеством детей и возвратом кредита в срок. Особо показательными оказались группы бездетных заемщиков, заемщиков с 1 ребенком  и заемщиков с 2 детьми. Увеличение количества детей у заемщика может привести к сложностям в возврате кредита. В частности, выведены следующие итоги по объему должников на общее количество заемщиков в группе:\n",
    "    \n",
    "    - бездетные заемщики - 7,54%,\n",
    "    - заемщики с 1 ребенком - 9,23%,\n",
    "    - заемщики с 2 детьми - 9,45%.\n",
    "    \n",
    "**выявление зависимости (или ее отсутствия) между семейным положением заемщика и возвратом кредита в срок:** в результате анализа была выявлена зависимость между семейным положением заемщика и возвратом кредита в срок. Выяснилось, что заемщики, состоявшие ранее в браке и состоявшие в браке на момент получения кредита, более ответственно подходят к возврату долга. В частности, объем должников на общее количество заемщиков в группе составляет:\n",
    "    \n",
    "    - не состояли в браке - 9,49%,\n",
    "    - состояли/состоят в браке - 7,46%.\n",
    "    \n",
    "**выявление зависимости (или ее отсутствия) между уровнем дохода и возвратом кредита в срок:** выявлено, что заемщики с меньшим доходом чаще являются должниками ,чем заемщики с большим доходом. В частности, выведены следующие итоги по объему должников на общее количество заемщиков в группе:\n",
    "    \n",
    "    - категории C,D и E - 8,45%,\n",
    "    - категории А и В - 7,06%.\n",
    "    \n",
    "Банку нужно быть очень осторожным с группой с меньшим доходом. Может возникнуть ситуация, когда у заемщика не будет никакой возможности вернуть кредит. Необходимо дополнительно уточнять наличие активов, которые могут быть реализованы для погашения долга. Хотя и это проблематично в условиях законодательства страны.\n",
    "    \n",
    "**выявление зависимости (или ее отсутствия) между целью кредита и возвратом кредита в срок:** ранее было выявлено 4 категории для целей кредита:\n",
    "    \n",
    "    - 'операции с автомобилем',\n",
    "    - 'операции с недвижимостью',\n",
    "    - 'проведение свадьбы',\n",
    "    - 'получение образования'.\n",
    "    \n",
    "Выявлено, что заемщики, берущие кредит на недвижимость более ответственно подходят к возврату долга, в отличии от остальных групп заемщиков. В частности, объем должников на общее количество заемщиков в группе составляет:\n",
    "    \n",
    "    - 'операции с автомобилем' - 9,35%,\n",
    "    - 'получение образования' - 9,25%,\n",
    "    - 'проведение свадьбы' - 7,91%,\n",
    "    - 'операции с недвижимостью' - 7,26%.\n",
    "    \n",
    "**Таким образом, банку следует обратить внимание, что заемщики с двумя детьми и более, не состоявшие в браке, с небольшим доходом и берущие кредит на автомобиль, имеют большую вероятность стать должникам. Сочетание же этих факторов должно приводить к более детальному изучению заемщика с целью выявления вероятности невозврата кредита**"
   ]
  }
 ],
 "metadata": {
  "ExecuteTimeLog": [
   {
    "duration": 461,
    "start_time": "2024-11-16T15:40:43.793Z"
   },
   {
    "duration": 28,
    "start_time": "2024-11-16T15:40:44.256Z"
   },
   {
    "duration": 24,
    "start_time": "2024-11-16T15:40:44.286Z"
   },
   {
    "duration": 33,
    "start_time": "2024-11-16T15:40:44.312Z"
   },
   {
    "duration": 77,
    "start_time": "2024-11-16T15:40:44.348Z"
   },
   {
    "duration": 3,
    "start_time": "2024-11-16T15:40:44.427Z"
   },
   {
    "duration": 30,
    "start_time": "2024-11-16T15:40:44.432Z"
   },
   {
    "duration": 8,
    "start_time": "2024-11-16T15:40:44.464Z"
   },
   {
    "duration": 10,
    "start_time": "2024-11-16T15:40:44.474Z"
   },
   {
    "duration": 100,
    "start_time": "2024-11-16T15:40:44.486Z"
   },
   {
    "duration": 51,
    "start_time": "2024-11-16T15:40:44.588Z"
   },
   {
    "duration": 15,
    "start_time": "2024-11-16T15:40:44.641Z"
   },
   {
    "duration": 33,
    "start_time": "2024-11-16T15:40:44.658Z"
   },
   {
    "duration": 22,
    "start_time": "2024-11-16T15:40:44.694Z"
   },
   {
    "duration": 75,
    "start_time": "2024-11-16T15:40:44.718Z"
   },
   {
    "duration": 19,
    "start_time": "2024-11-16T15:40:44.795Z"
   },
   {
    "duration": 3,
    "start_time": "2024-11-16T15:40:44.816Z"
   },
   {
    "duration": 13,
    "start_time": "2024-11-16T15:40:44.821Z"
   },
   {
    "duration": 9,
    "start_time": "2024-11-16T15:40:44.836Z"
   },
   {
    "duration": 23,
    "start_time": "2024-11-16T15:40:44.847Z"
   },
   {
    "duration": 22,
    "start_time": "2024-11-16T15:40:44.872Z"
   },
   {
    "duration": 3,
    "start_time": "2024-11-16T15:40:44.896Z"
   },
   {
    "duration": 13,
    "start_time": "2024-11-16T15:40:44.901Z"
   },
   {
    "duration": 3,
    "start_time": "2024-11-16T15:40:44.917Z"
   },
   {
    "duration": 11,
    "start_time": "2024-11-16T15:40:44.922Z"
   },
   {
    "duration": 219,
    "start_time": "2024-11-16T16:06:06.214Z"
   },
   {
    "duration": 5,
    "start_time": "2024-11-16T16:06:50.107Z"
   },
   {
    "duration": 9,
    "start_time": "2024-11-16T16:13:11.894Z"
   },
   {
    "duration": 4,
    "start_time": "2024-11-16T16:23:23.276Z"
   },
   {
    "duration": 4,
    "start_time": "2024-11-16T16:23:35.507Z"
   },
   {
    "duration": 73,
    "start_time": "2024-11-16T16:23:49.259Z"
   },
   {
    "duration": 11,
    "start_time": "2024-11-16T16:35:36.814Z"
   },
   {
    "duration": 23,
    "start_time": "2024-11-16T16:35:47.771Z"
   },
   {
    "duration": 588,
    "start_time": "2024-11-16T16:46:48.669Z"
   },
   {
    "duration": 16,
    "start_time": "2024-11-16T16:47:03.445Z"
   },
   {
    "duration": 18,
    "start_time": "2024-11-16T17:08:02.240Z"
   },
   {
    "duration": 107,
    "start_time": "2024-11-16T17:11:10.954Z"
   },
   {
    "duration": 21,
    "start_time": "2024-11-16T17:20:09.678Z"
   },
   {
    "duration": 59,
    "start_time": "2024-11-17T08:31:36.816Z"
   },
   {
    "duration": 7,
    "start_time": "2024-11-17T08:31:45.335Z"
   },
   {
    "duration": 7,
    "start_time": "2024-11-17T08:32:03.817Z"
   },
   {
    "duration": 1106,
    "start_time": "2024-11-17T08:32:15.205Z"
   },
   {
    "duration": 22,
    "start_time": "2024-11-17T08:32:16.313Z"
   },
   {
    "duration": 16,
    "start_time": "2024-11-17T08:32:16.336Z"
   },
   {
    "duration": 11,
    "start_time": "2024-11-17T08:32:16.355Z"
   },
   {
    "duration": 62,
    "start_time": "2024-11-17T08:32:16.368Z"
   },
   {
    "duration": 4,
    "start_time": "2024-11-17T08:32:16.432Z"
   },
   {
    "duration": 28,
    "start_time": "2024-11-17T08:32:16.438Z"
   },
   {
    "duration": 5,
    "start_time": "2024-11-17T08:32:16.468Z"
   },
   {
    "duration": 9,
    "start_time": "2024-11-17T08:32:16.475Z"
   },
   {
    "duration": 5,
    "start_time": "2024-11-17T08:32:16.487Z"
   },
   {
    "duration": 58,
    "start_time": "2024-11-17T08:32:16.494Z"
   },
   {
    "duration": 12,
    "start_time": "2024-11-17T08:32:16.553Z"
   },
   {
    "duration": 3,
    "start_time": "2024-11-17T08:32:16.567Z"
   },
   {
    "duration": 12,
    "start_time": "2024-11-17T08:32:16.572Z"
   },
   {
    "duration": 44,
    "start_time": "2024-11-17T08:32:16.586Z"
   },
   {
    "duration": 18,
    "start_time": "2024-11-17T08:32:16.632Z"
   },
   {
    "duration": 4,
    "start_time": "2024-11-17T08:32:16.651Z"
   },
   {
    "duration": 27,
    "start_time": "2024-11-17T08:32:16.657Z"
   },
   {
    "duration": 8,
    "start_time": "2024-11-17T08:32:16.686Z"
   },
   {
    "duration": 4,
    "start_time": "2024-11-17T08:32:16.695Z"
   },
   {
    "duration": 35,
    "start_time": "2024-11-17T08:32:16.701Z"
   },
   {
    "duration": 3,
    "start_time": "2024-11-17T08:32:16.738Z"
   },
   {
    "duration": 62,
    "start_time": "2024-11-17T08:32:16.743Z"
   },
   {
    "duration": 0,
    "start_time": "2024-11-17T08:32:16.806Z"
   },
   {
    "duration": 0,
    "start_time": "2024-11-17T08:32:16.808Z"
   },
   {
    "duration": 0,
    "start_time": "2024-11-17T08:32:16.808Z"
   },
   {
    "duration": 16,
    "start_time": "2024-11-17T08:32:19.742Z"
   },
   {
    "duration": 4,
    "start_time": "2024-11-17T08:32:34.839Z"
   },
   {
    "duration": 10,
    "start_time": "2024-11-17T08:32:35.912Z"
   },
   {
    "duration": 21,
    "start_time": "2024-11-17T08:32:39.710Z"
   },
   {
    "duration": 10,
    "start_time": "2024-11-17T08:32:47.359Z"
   },
   {
    "duration": 5,
    "start_time": "2024-11-17T08:32:49.919Z"
   },
   {
    "duration": 17,
    "start_time": "2024-11-17T08:33:02.359Z"
   },
   {
    "duration": 16,
    "start_time": "2024-11-17T08:35:04.383Z"
   },
   {
    "duration": 19,
    "start_time": "2024-11-17T08:35:57.215Z"
   },
   {
    "duration": 17,
    "start_time": "2024-11-17T08:36:00.575Z"
   },
   {
    "duration": 25,
    "start_time": "2024-11-17T09:17:01.266Z"
   },
   {
    "duration": 4,
    "start_time": "2024-11-17T09:43:10.513Z"
   },
   {
    "duration": 22,
    "start_time": "2024-11-17T09:50:11.954Z"
   },
   {
    "duration": 17,
    "start_time": "2024-11-17T09:51:23.887Z"
   },
   {
    "duration": 3,
    "start_time": "2024-11-17T09:52:21.303Z"
   },
   {
    "duration": 20,
    "start_time": "2024-11-17T09:53:26.543Z"
   },
   {
    "duration": 61,
    "start_time": "2024-11-17T09:56:34.519Z"
   },
   {
    "duration": 937,
    "start_time": "2024-11-17T09:56:47.654Z"
   },
   {
    "duration": 863,
    "start_time": "2024-11-17T09:57:05.351Z"
   },
   {
    "duration": 19,
    "start_time": "2024-11-17T09:57:18.352Z"
   },
   {
    "duration": 25,
    "start_time": "2024-11-17T09:57:32.535Z"
   },
   {
    "duration": 18,
    "start_time": "2024-11-17T09:57:40.886Z"
   },
   {
    "duration": 19,
    "start_time": "2024-11-17T09:58:38.358Z"
   },
   {
    "duration": 5,
    "start_time": "2024-11-17T10:13:42.175Z"
   },
   {
    "duration": 18,
    "start_time": "2024-11-17T10:15:16.583Z"
   },
   {
    "duration": 22,
    "start_time": "2024-11-17T10:19:17.329Z"
   },
   {
    "duration": 19,
    "start_time": "2024-11-17T10:20:00.616Z"
   },
   {
    "duration": 20,
    "start_time": "2024-11-17T10:24:03.652Z"
   },
   {
    "duration": 20,
    "start_time": "2024-11-17T10:25:14.712Z"
   },
   {
    "duration": 3,
    "start_time": "2024-11-17T10:25:25.712Z"
   },
   {
    "duration": 3,
    "start_time": "2024-11-17T10:27:22.699Z"
   },
   {
    "duration": 21,
    "start_time": "2024-11-17T10:32:06.784Z"
   },
   {
    "duration": 21,
    "start_time": "2024-11-17T10:40:06.064Z"
   },
   {
    "duration": 19,
    "start_time": "2024-11-17T10:40:14.679Z"
   },
   {
    "duration": 17,
    "start_time": "2024-11-17T10:40:56.696Z"
   },
   {
    "duration": 17,
    "start_time": "2024-11-17T10:41:23.635Z"
   },
   {
    "duration": 17,
    "start_time": "2024-11-17T10:41:43.680Z"
   },
   {
    "duration": 19,
    "start_time": "2024-11-17T10:43:05.784Z"
   },
   {
    "duration": 21,
    "start_time": "2024-11-17T10:44:33.887Z"
   },
   {
    "duration": 19,
    "start_time": "2024-11-17T10:44:43.000Z"
   },
   {
    "duration": 20,
    "start_time": "2024-11-17T10:45:33.538Z"
   },
   {
    "duration": 21,
    "start_time": "2024-11-17T10:45:54.016Z"
   },
   {
    "duration": 21,
    "start_time": "2024-11-17T10:46:28.434Z"
   },
   {
    "duration": 21,
    "start_time": "2024-11-17T10:57:00.928Z"
   },
   {
    "duration": 8,
    "start_time": "2024-11-17T11:13:24.328Z"
   },
   {
    "duration": 21,
    "start_time": "2024-11-17T11:15:41.159Z"
   },
   {
    "duration": 20,
    "start_time": "2024-11-17T11:18:08.840Z"
   },
   {
    "duration": 19,
    "start_time": "2024-11-17T11:18:42.560Z"
   },
   {
    "duration": 19,
    "start_time": "2024-11-17T11:19:13.568Z"
   },
   {
    "duration": 21,
    "start_time": "2024-11-17T11:21:43.759Z"
   },
   {
    "duration": 22,
    "start_time": "2024-11-17T11:29:18.479Z"
   },
   {
    "duration": 3,
    "start_time": "2024-11-17T11:30:00.064Z"
   },
   {
    "duration": 20,
    "start_time": "2024-11-17T11:49:51.425Z"
   },
   {
    "duration": 29,
    "start_time": "2024-11-17T11:53:37.302Z"
   },
   {
    "duration": 905,
    "start_time": "2024-11-17T12:25:59.644Z"
   },
   {
    "duration": 18,
    "start_time": "2024-11-17T12:26:47.252Z"
   },
   {
    "duration": 20,
    "start_time": "2024-11-17T12:27:07.802Z"
   },
   {
    "duration": 16,
    "start_time": "2024-11-17T12:27:18.963Z"
   },
   {
    "duration": 19,
    "start_time": "2024-11-17T12:27:38.253Z"
   },
   {
    "duration": 19,
    "start_time": "2024-11-17T12:28:52.395Z"
   },
   {
    "duration": 12,
    "start_time": "2024-11-17T12:29:19.659Z"
   },
   {
    "duration": 838,
    "start_time": "2024-11-17T12:40:12.516Z"
   },
   {
    "duration": 834,
    "start_time": "2024-11-17T12:40:22.194Z"
   },
   {
    "duration": 843,
    "start_time": "2024-11-17T12:41:01.772Z"
   },
   {
    "duration": 848,
    "start_time": "2024-11-17T12:41:40.331Z"
   },
   {
    "duration": 1390,
    "start_time": "2024-11-17T12:42:31.937Z"
   },
   {
    "duration": 54,
    "start_time": "2024-11-17T12:42:49.868Z"
   },
   {
    "duration": 801,
    "start_time": "2024-11-17T12:43:26.939Z"
   },
   {
    "duration": 900,
    "start_time": "2024-11-17T12:45:18.812Z"
   },
   {
    "duration": 800,
    "start_time": "2024-11-17T12:45:32.730Z"
   },
   {
    "duration": 89,
    "start_time": "2024-11-17T13:10:32.794Z"
   },
   {
    "duration": 21,
    "start_time": "2024-11-17T13:10:32.887Z"
   },
   {
    "duration": 40,
    "start_time": "2024-11-17T13:10:32.921Z"
   },
   {
    "duration": 10,
    "start_time": "2024-11-17T13:10:32.963Z"
   },
   {
    "duration": 34,
    "start_time": "2024-11-17T13:10:32.974Z"
   },
   {
    "duration": 3,
    "start_time": "2024-11-17T13:10:33.010Z"
   },
   {
    "duration": 37,
    "start_time": "2024-11-17T13:10:33.014Z"
   },
   {
    "duration": 9,
    "start_time": "2024-11-17T13:10:33.053Z"
   },
   {
    "duration": 5,
    "start_time": "2024-11-17T13:10:33.063Z"
   },
   {
    "duration": 4,
    "start_time": "2024-11-17T13:10:33.071Z"
   },
   {
    "duration": 34,
    "start_time": "2024-11-17T13:10:33.076Z"
   },
   {
    "duration": 10,
    "start_time": "2024-11-17T13:10:33.112Z"
   },
   {
    "duration": 27,
    "start_time": "2024-11-17T13:10:33.123Z"
   },
   {
    "duration": 12,
    "start_time": "2024-11-17T13:10:33.151Z"
   },
   {
    "duration": 19,
    "start_time": "2024-11-17T13:10:33.164Z"
   },
   {
    "duration": 15,
    "start_time": "2024-11-17T13:10:33.184Z"
   },
   {
    "duration": 4,
    "start_time": "2024-11-17T13:10:33.200Z"
   },
   {
    "duration": 18,
    "start_time": "2024-11-17T13:10:33.205Z"
   },
   {
    "duration": 26,
    "start_time": "2024-11-17T13:10:33.224Z"
   },
   {
    "duration": 4,
    "start_time": "2024-11-17T13:10:33.251Z"
   },
   {
    "duration": 26,
    "start_time": "2024-11-17T13:10:33.257Z"
   },
   {
    "duration": 4,
    "start_time": "2024-11-17T13:10:33.284Z"
   },
   {
    "duration": 22,
    "start_time": "2024-11-17T13:10:33.289Z"
   },
   {
    "duration": 2,
    "start_time": "2024-11-17T13:10:33.313Z"
   },
   {
    "duration": 22,
    "start_time": "2024-11-17T13:10:33.317Z"
   },
   {
    "duration": 14,
    "start_time": "2024-11-17T13:10:33.340Z"
   },
   {
    "duration": 19,
    "start_time": "2024-11-17T13:10:33.355Z"
   },
   {
    "duration": 19,
    "start_time": "2024-11-17T13:10:33.377Z"
   },
   {
    "duration": 35,
    "start_time": "2024-11-17T13:10:33.397Z"
   },
   {
    "duration": 18,
    "start_time": "2024-11-17T13:10:33.433Z"
   },
   {
    "duration": 19,
    "start_time": "2024-11-17T13:10:33.452Z"
   },
   {
    "duration": 19,
    "start_time": "2024-11-17T13:10:33.472Z"
   },
   {
    "duration": 53,
    "start_time": "2024-11-17T16:03:42.245Z"
   },
   {
    "duration": 8,
    "start_time": "2024-11-17T16:04:00.287Z"
   },
   {
    "duration": 460,
    "start_time": "2024-11-17T16:04:12.653Z"
   },
   {
    "duration": 25,
    "start_time": "2024-11-17T16:04:13.648Z"
   },
   {
    "duration": 12,
    "start_time": "2024-11-17T16:04:14.029Z"
   },
   {
    "duration": 14,
    "start_time": "2024-11-17T16:04:14.767Z"
   },
   {
    "duration": 30,
    "start_time": "2024-11-17T16:04:15.138Z"
   },
   {
    "duration": 4,
    "start_time": "2024-11-17T16:04:15.691Z"
   },
   {
    "duration": 9,
    "start_time": "2024-11-17T16:04:16.062Z"
   },
   {
    "duration": 4,
    "start_time": "2024-11-17T16:04:16.639Z"
   },
   {
    "duration": 7,
    "start_time": "2024-11-17T16:04:16.999Z"
   },
   {
    "duration": 6,
    "start_time": "2024-11-17T16:04:17.375Z"
   },
   {
    "duration": 30,
    "start_time": "2024-11-17T16:04:17.973Z"
   },
   {
    "duration": 9,
    "start_time": "2024-11-17T16:04:18.378Z"
   },
   {
    "duration": 3,
    "start_time": "2024-11-17T16:04:18.937Z"
   },
   {
    "duration": 10,
    "start_time": "2024-11-17T16:04:19.540Z"
   },
   {
    "duration": 17,
    "start_time": "2024-11-17T16:04:19.932Z"
   },
   {
    "duration": 17,
    "start_time": "2024-11-17T16:04:20.126Z"
   },
   {
    "duration": 3,
    "start_time": "2024-11-17T16:04:20.724Z"
   },
   {
    "duration": 9,
    "start_time": "2024-11-17T16:04:20.912Z"
   },
   {
    "duration": 7,
    "start_time": "2024-11-17T16:04:21.313Z"
   },
   {
    "duration": 3,
    "start_time": "2024-11-17T16:04:21.679Z"
   },
   {
    "duration": 12,
    "start_time": "2024-11-17T16:04:21.872Z"
   },
   {
    "duration": 4,
    "start_time": "2024-11-17T16:04:23.095Z"
   },
   {
    "duration": 20,
    "start_time": "2024-11-17T16:04:23.697Z"
   },
   {
    "duration": 3,
    "start_time": "2024-11-17T16:04:27.616Z"
   },
   {
    "duration": 17,
    "start_time": "2024-11-17T16:04:28.586Z"
   },
   {
    "duration": 28,
    "start_time": "2024-11-17T16:04:31.703Z"
   },
   {
    "duration": 453,
    "start_time": "2024-11-17T16:04:51.176Z"
   },
   {
    "duration": 40,
    "start_time": "2024-11-17T16:05:53.503Z"
   },
   {
    "duration": 74,
    "start_time": "2024-11-17T16:07:59.564Z"
   },
   {
    "duration": 76,
    "start_time": "2024-11-17T16:08:16.030Z"
   },
   {
    "duration": 22,
    "start_time": "2024-11-17T16:08:26.118Z"
   },
   {
    "duration": 22,
    "start_time": "2024-11-17T16:09:01.014Z"
   },
   {
    "duration": 21,
    "start_time": "2024-11-17T16:22:15.488Z"
   },
   {
    "duration": 460,
    "start_time": "2024-11-18T14:47:32.201Z"
   },
   {
    "duration": 27,
    "start_time": "2024-11-18T14:47:32.664Z"
   },
   {
    "duration": 39,
    "start_time": "2024-11-18T14:47:32.693Z"
   },
   {
    "duration": 13,
    "start_time": "2024-11-18T14:47:32.734Z"
   },
   {
    "duration": 34,
    "start_time": "2024-11-18T14:47:32.749Z"
   },
   {
    "duration": 4,
    "start_time": "2024-11-18T14:47:32.784Z"
   },
   {
    "duration": 25,
    "start_time": "2024-11-18T14:47:32.789Z"
   },
   {
    "duration": 4,
    "start_time": "2024-11-18T14:47:32.815Z"
   },
   {
    "duration": 6,
    "start_time": "2024-11-18T14:47:32.820Z"
   },
   {
    "duration": 15,
    "start_time": "2024-11-18T14:47:32.828Z"
   },
   {
    "duration": 60,
    "start_time": "2024-11-18T14:47:32.844Z"
   },
   {
    "duration": 18,
    "start_time": "2024-11-18T14:47:32.905Z"
   },
   {
    "duration": 4,
    "start_time": "2024-11-18T14:47:32.925Z"
   },
   {
    "duration": 27,
    "start_time": "2024-11-18T14:47:32.932Z"
   },
   {
    "duration": 32,
    "start_time": "2024-11-18T14:47:32.960Z"
   },
   {
    "duration": 17,
    "start_time": "2024-11-18T14:47:32.993Z"
   },
   {
    "duration": 3,
    "start_time": "2024-11-18T14:47:33.012Z"
   },
   {
    "duration": 11,
    "start_time": "2024-11-18T14:47:33.017Z"
   },
   {
    "duration": 19,
    "start_time": "2024-11-18T14:47:33.030Z"
   },
   {
    "duration": 10,
    "start_time": "2024-11-18T14:47:33.050Z"
   },
   {
    "duration": 28,
    "start_time": "2024-11-18T14:47:33.061Z"
   },
   {
    "duration": 8,
    "start_time": "2024-11-18T14:47:33.091Z"
   },
   {
    "duration": 22,
    "start_time": "2024-11-18T14:47:33.101Z"
   },
   {
    "duration": 3,
    "start_time": "2024-11-18T14:47:33.124Z"
   },
   {
    "duration": 29,
    "start_time": "2024-11-18T14:47:33.129Z"
   },
   {
    "duration": 297,
    "start_time": "2024-11-18T14:47:33.159Z"
   },
   {
    "duration": 4,
    "start_time": "2024-11-18T14:47:33.458Z"
   },
   {
    "duration": 116,
    "start_time": "2024-11-18T14:47:33.464Z"
   },
   {
    "duration": 25,
    "start_time": "2024-11-18T14:47:33.582Z"
   },
   {
    "duration": 19,
    "start_time": "2024-11-18T14:47:33.608Z"
   },
   {
    "duration": 19,
    "start_time": "2024-11-18T14:47:33.628Z"
   },
   {
    "duration": 44,
    "start_time": "2024-11-18T14:47:33.648Z"
   },
   {
    "duration": 20,
    "start_time": "2024-11-18T14:47:33.694Z"
   },
   {
    "duration": 2,
    "start_time": "2024-11-18T14:51:14.914Z"
   },
   {
    "duration": 66,
    "start_time": "2024-11-18T15:01:21.179Z"
   },
   {
    "duration": 55,
    "start_time": "2024-11-18T15:01:38.369Z"
   },
   {
    "duration": 26,
    "start_time": "2024-11-18T15:01:56.521Z"
   },
   {
    "duration": 36,
    "start_time": "2024-11-18T15:12:11.035Z"
   },
   {
    "duration": 34,
    "start_time": "2024-11-18T15:12:39.708Z"
   },
   {
    "duration": 38,
    "start_time": "2024-11-18T15:18:49.977Z"
   },
   {
    "duration": 51,
    "start_time": "2024-11-18T15:24:55.771Z"
   },
   {
    "duration": 37,
    "start_time": "2024-11-18T15:25:16.115Z"
   },
   {
    "duration": 37,
    "start_time": "2024-11-18T15:27:18.628Z"
   },
   {
    "duration": 44,
    "start_time": "2024-11-18T15:27:57.261Z"
   },
   {
    "duration": 34,
    "start_time": "2024-11-18T15:28:03.835Z"
   },
   {
    "duration": 2,
    "start_time": "2024-11-18T15:32:49.266Z"
   },
   {
    "duration": 79,
    "start_time": "2024-11-18T15:34:46.579Z"
   },
   {
    "duration": 29,
    "start_time": "2024-11-18T15:35:06.428Z"
   },
   {
    "duration": 2,
    "start_time": "2024-11-18T15:39:18.731Z"
   },
   {
    "duration": 43,
    "start_time": "2024-11-18T15:42:15.340Z"
   },
   {
    "duration": 37,
    "start_time": "2024-11-18T15:42:32.356Z"
   },
   {
    "duration": 31,
    "start_time": "2024-11-18T15:48:02.525Z"
   },
   {
    "duration": 475,
    "start_time": "2024-11-18T16:09:15.906Z"
   },
   {
    "duration": 33,
    "start_time": "2024-11-18T16:09:16.383Z"
   },
   {
    "duration": 15,
    "start_time": "2024-11-18T16:09:16.418Z"
   },
   {
    "duration": 11,
    "start_time": "2024-11-18T16:09:16.434Z"
   },
   {
    "duration": 64,
    "start_time": "2024-11-18T16:09:16.447Z"
   },
   {
    "duration": 3,
    "start_time": "2024-11-18T16:09:16.513Z"
   },
   {
    "duration": 8,
    "start_time": "2024-11-18T16:09:16.518Z"
   },
   {
    "duration": 5,
    "start_time": "2024-11-18T16:09:16.528Z"
   },
   {
    "duration": 8,
    "start_time": "2024-11-18T16:09:16.534Z"
   },
   {
    "duration": 4,
    "start_time": "2024-11-18T16:09:16.543Z"
   },
   {
    "duration": 73,
    "start_time": "2024-11-18T16:09:16.549Z"
   },
   {
    "duration": 9,
    "start_time": "2024-11-18T16:09:16.624Z"
   },
   {
    "duration": 71,
    "start_time": "2024-11-18T16:09:16.634Z"
   },
   {
    "duration": 11,
    "start_time": "2024-11-18T16:09:16.708Z"
   },
   {
    "duration": 18,
    "start_time": "2024-11-18T16:09:16.721Z"
   },
   {
    "duration": 15,
    "start_time": "2024-11-18T16:09:16.741Z"
   },
   {
    "duration": 3,
    "start_time": "2024-11-18T16:09:16.757Z"
   },
   {
    "duration": 10,
    "start_time": "2024-11-18T16:09:16.761Z"
   },
   {
    "duration": 6,
    "start_time": "2024-11-18T16:09:16.772Z"
   },
   {
    "duration": 16,
    "start_time": "2024-11-18T16:09:16.779Z"
   },
   {
    "duration": 10,
    "start_time": "2024-11-18T16:09:16.797Z"
   },
   {
    "duration": 14,
    "start_time": "2024-11-18T16:09:16.809Z"
   },
   {
    "duration": 2,
    "start_time": "2024-11-18T16:09:16.825Z"
   },
   {
    "duration": 296,
    "start_time": "2024-11-18T16:09:16.829Z"
   },
   {
    "duration": 24,
    "start_time": "2024-11-18T16:09:17.126Z"
   },
   {
    "duration": 53,
    "start_time": "2024-11-18T16:09:17.152Z"
   },
   {
    "duration": 4,
    "start_time": "2024-11-18T16:09:17.207Z"
   },
   {
    "duration": 28,
    "start_time": "2024-11-18T16:09:17.216Z"
   },
   {
    "duration": 62,
    "start_time": "2024-11-18T16:09:17.245Z"
   },
   {
    "duration": 3,
    "start_time": "2024-11-18T16:09:17.309Z"
   },
   {
    "duration": 33,
    "start_time": "2024-11-18T16:09:17.313Z"
   },
   {
    "duration": 52,
    "start_time": "2024-11-18T16:09:17.347Z"
   },
   {
    "duration": 29,
    "start_time": "2024-11-18T16:09:17.403Z"
   },
   {
    "duration": 527,
    "start_time": "2024-11-19T05:13:20.322Z"
   },
   {
    "duration": 21,
    "start_time": "2024-11-19T05:13:20.851Z"
   },
   {
    "duration": 13,
    "start_time": "2024-11-19T05:13:20.873Z"
   },
   {
    "duration": 16,
    "start_time": "2024-11-19T05:13:20.887Z"
   },
   {
    "duration": 58,
    "start_time": "2024-11-19T05:13:20.905Z"
   },
   {
    "duration": 3,
    "start_time": "2024-11-19T05:13:20.964Z"
   },
   {
    "duration": 7,
    "start_time": "2024-11-19T05:13:20.969Z"
   },
   {
    "duration": 7,
    "start_time": "2024-11-19T05:13:20.977Z"
   },
   {
    "duration": 12,
    "start_time": "2024-11-19T05:13:20.985Z"
   },
   {
    "duration": 4,
    "start_time": "2024-11-19T05:13:20.998Z"
   },
   {
    "duration": 56,
    "start_time": "2024-11-19T05:13:21.003Z"
   },
   {
    "duration": 9,
    "start_time": "2024-11-19T05:13:21.060Z"
   },
   {
    "duration": 3,
    "start_time": "2024-11-19T05:13:21.070Z"
   },
   {
    "duration": 10,
    "start_time": "2024-11-19T05:13:21.076Z"
   },
   {
    "duration": 34,
    "start_time": "2024-11-19T05:13:21.088Z"
   },
   {
    "duration": 34,
    "start_time": "2024-11-19T05:13:21.123Z"
   },
   {
    "duration": 3,
    "start_time": "2024-11-19T05:13:21.159Z"
   },
   {
    "duration": 10,
    "start_time": "2024-11-19T05:13:21.163Z"
   },
   {
    "duration": 5,
    "start_time": "2024-11-19T05:13:21.174Z"
   },
   {
    "duration": 5,
    "start_time": "2024-11-19T05:13:21.181Z"
   },
   {
    "duration": 12,
    "start_time": "2024-11-19T05:13:21.188Z"
   },
   {
    "duration": 4,
    "start_time": "2024-11-19T05:13:21.202Z"
   },
   {
    "duration": 3,
    "start_time": "2024-11-19T05:13:21.207Z"
   },
   {
    "duration": 447,
    "start_time": "2024-11-19T05:13:21.212Z"
   },
   {
    "duration": 24,
    "start_time": "2024-11-19T05:13:21.660Z"
   },
   {
    "duration": 92,
    "start_time": "2024-11-19T05:13:21.685Z"
   },
   {
    "duration": 6,
    "start_time": "2024-11-19T05:13:21.778Z"
   },
   {
    "duration": 66,
    "start_time": "2024-11-19T05:13:21.785Z"
   },
   {
    "duration": 41,
    "start_time": "2024-11-19T05:13:21.857Z"
   },
   {
    "duration": 3,
    "start_time": "2024-11-19T05:13:21.900Z"
   },
   {
    "duration": 58,
    "start_time": "2024-11-19T05:13:21.905Z"
   },
   {
    "duration": 37,
    "start_time": "2024-11-19T05:13:21.964Z"
   },
   {
    "duration": 55,
    "start_time": "2024-11-19T05:13:22.003Z"
   },
   {
    "duration": 493,
    "start_time": "2024-11-19T05:15:29.261Z"
   },
   {
    "duration": 21,
    "start_time": "2024-11-19T05:15:29.756Z"
   },
   {
    "duration": 38,
    "start_time": "2024-11-19T05:15:29.779Z"
   },
   {
    "duration": 31,
    "start_time": "2024-11-19T05:15:29.818Z"
   },
   {
    "duration": 31,
    "start_time": "2024-11-19T05:15:29.851Z"
   },
   {
    "duration": 3,
    "start_time": "2024-11-19T05:15:29.883Z"
   },
   {
    "duration": 7,
    "start_time": "2024-11-19T05:15:29.888Z"
   },
   {
    "duration": 4,
    "start_time": "2024-11-19T05:15:29.896Z"
   },
   {
    "duration": 44,
    "start_time": "2024-11-19T05:15:29.901Z"
   },
   {
    "duration": 4,
    "start_time": "2024-11-19T05:15:29.959Z"
   },
   {
    "duration": 33,
    "start_time": "2024-11-19T05:15:29.964Z"
   },
   {
    "duration": 47,
    "start_time": "2024-11-19T05:15:29.998Z"
   },
   {
    "duration": 21,
    "start_time": "2024-11-19T05:15:30.046Z"
   },
   {
    "duration": 83,
    "start_time": "2024-11-19T05:15:30.070Z"
   },
   {
    "duration": 36,
    "start_time": "2024-11-19T05:15:30.154Z"
   },
   {
    "duration": 33,
    "start_time": "2024-11-19T05:15:30.192Z"
   },
   {
    "duration": 18,
    "start_time": "2024-11-19T05:15:30.231Z"
   },
   {
    "duration": 92,
    "start_time": "2024-11-19T05:15:30.257Z"
   },
   {
    "duration": 8,
    "start_time": "2024-11-19T05:15:30.360Z"
   },
   {
    "duration": 10,
    "start_time": "2024-11-19T05:15:30.369Z"
   },
   {
    "duration": 63,
    "start_time": "2024-11-19T05:15:30.381Z"
   },
   {
    "duration": 5,
    "start_time": "2024-11-19T05:15:30.457Z"
   },
   {
    "duration": 12,
    "start_time": "2024-11-19T05:15:30.463Z"
   },
   {
    "duration": 381,
    "start_time": "2024-11-19T05:15:30.476Z"
   },
   {
    "duration": 25,
    "start_time": "2024-11-19T05:15:30.858Z"
   },
   {
    "duration": 70,
    "start_time": "2024-11-19T05:15:30.884Z"
   },
   {
    "duration": 8,
    "start_time": "2024-11-19T05:15:30.955Z"
   },
   {
    "duration": 81,
    "start_time": "2024-11-19T05:15:30.964Z"
   },
   {
    "duration": 59,
    "start_time": "2024-11-19T05:15:31.047Z"
   },
   {
    "duration": 2,
    "start_time": "2024-11-19T05:15:31.107Z"
   },
   {
    "duration": 70,
    "start_time": "2024-11-19T05:15:31.114Z"
   },
   {
    "duration": 72,
    "start_time": "2024-11-19T05:15:31.186Z"
   },
   {
    "duration": 30,
    "start_time": "2024-11-19T05:15:31.259Z"
   },
   {
    "duration": 556,
    "start_time": "2024-11-19T05:19:22.998Z"
   },
   {
    "duration": 20,
    "start_time": "2024-11-19T05:19:23.560Z"
   },
   {
    "duration": 14,
    "start_time": "2024-11-19T05:19:23.581Z"
   },
   {
    "duration": 10,
    "start_time": "2024-11-19T05:19:23.597Z"
   },
   {
    "duration": 58,
    "start_time": "2024-11-19T05:19:23.609Z"
   },
   {
    "duration": 3,
    "start_time": "2024-11-19T05:19:23.669Z"
   },
   {
    "duration": 12,
    "start_time": "2024-11-19T05:19:23.674Z"
   },
   {
    "duration": 4,
    "start_time": "2024-11-19T05:19:23.688Z"
   },
   {
    "duration": 56,
    "start_time": "2024-11-19T05:19:23.693Z"
   },
   {
    "duration": 5,
    "start_time": "2024-11-19T05:19:23.751Z"
   },
   {
    "duration": 33,
    "start_time": "2024-11-19T05:19:23.757Z"
   },
   {
    "duration": 29,
    "start_time": "2024-11-19T05:19:23.792Z"
   },
   {
    "duration": 11,
    "start_time": "2024-11-19T05:19:23.822Z"
   },
   {
    "duration": 25,
    "start_time": "2024-11-19T05:19:23.835Z"
   },
   {
    "duration": 20,
    "start_time": "2024-11-19T05:19:23.862Z"
   },
   {
    "duration": 16,
    "start_time": "2024-11-19T05:19:23.883Z"
   },
   {
    "duration": 6,
    "start_time": "2024-11-19T05:19:23.901Z"
   },
   {
    "duration": 37,
    "start_time": "2024-11-19T05:19:23.908Z"
   },
   {
    "duration": 12,
    "start_time": "2024-11-19T05:19:23.949Z"
   },
   {
    "duration": 4,
    "start_time": "2024-11-19T05:19:23.963Z"
   },
   {
    "duration": 16,
    "start_time": "2024-11-19T05:19:23.969Z"
   },
   {
    "duration": 7,
    "start_time": "2024-11-19T05:19:23.987Z"
   },
   {
    "duration": 5,
    "start_time": "2024-11-19T05:19:23.996Z"
   },
   {
    "duration": 352,
    "start_time": "2024-11-19T05:19:24.003Z"
   },
   {
    "duration": 26,
    "start_time": "2024-11-19T05:19:24.357Z"
   },
   {
    "duration": 64,
    "start_time": "2024-11-19T05:19:24.385Z"
   },
   {
    "duration": 4,
    "start_time": "2024-11-19T05:19:24.451Z"
   },
   {
    "duration": 27,
    "start_time": "2024-11-19T05:19:24.457Z"
   },
   {
    "duration": 58,
    "start_time": "2024-11-19T05:19:24.485Z"
   },
   {
    "duration": 9,
    "start_time": "2024-11-19T05:19:24.544Z"
   },
   {
    "duration": 30,
    "start_time": "2024-11-19T05:19:24.554Z"
   },
   {
    "duration": 53,
    "start_time": "2024-11-19T05:19:24.585Z"
   },
   {
    "duration": 31,
    "start_time": "2024-11-19T05:19:24.640Z"
   },
   {
    "duration": 43,
    "start_time": "2024-11-19T05:22:56.706Z"
   },
   {
    "duration": 32,
    "start_time": "2024-11-19T05:23:24.450Z"
   },
   {
    "duration": 36,
    "start_time": "2024-11-19T05:24:47.243Z"
   },
   {
    "duration": 50,
    "start_time": "2024-11-19T05:26:28.701Z"
   },
   {
    "duration": 26,
    "start_time": "2024-11-19T05:27:41.681Z"
   },
   {
    "duration": 61,
    "start_time": "2024-11-19T05:27:56.892Z"
   },
   {
    "duration": 42,
    "start_time": "2024-11-19T05:28:13.494Z"
   },
   {
    "duration": 37,
    "start_time": "2024-11-19T05:28:48.971Z"
   },
   {
    "duration": 26,
    "start_time": "2024-11-19T05:30:36.267Z"
   },
   {
    "duration": 35,
    "start_time": "2024-11-19T05:31:44.137Z"
   },
   {
    "duration": 585,
    "start_time": "2024-11-19T05:39:36.676Z"
   },
   {
    "duration": 26,
    "start_time": "2024-11-19T05:39:37.263Z"
   },
   {
    "duration": 15,
    "start_time": "2024-11-19T05:39:37.290Z"
   },
   {
    "duration": 22,
    "start_time": "2024-11-19T05:39:37.306Z"
   },
   {
    "duration": 68,
    "start_time": "2024-11-19T05:39:37.331Z"
   },
   {
    "duration": 3,
    "start_time": "2024-11-19T05:39:37.400Z"
   },
   {
    "duration": 68,
    "start_time": "2024-11-19T05:39:37.405Z"
   },
   {
    "duration": 4,
    "start_time": "2024-11-19T05:39:37.475Z"
   },
   {
    "duration": 9,
    "start_time": "2024-11-19T05:39:37.480Z"
   },
   {
    "duration": 4,
    "start_time": "2024-11-19T05:39:37.491Z"
   },
   {
    "duration": 77,
    "start_time": "2024-11-19T05:39:37.496Z"
   },
   {
    "duration": 15,
    "start_time": "2024-11-19T05:39:37.574Z"
   },
   {
    "duration": 11,
    "start_time": "2024-11-19T05:39:37.590Z"
   },
   {
    "duration": 36,
    "start_time": "2024-11-19T05:39:37.603Z"
   },
   {
    "duration": 32,
    "start_time": "2024-11-19T05:39:37.648Z"
   },
   {
    "duration": 20,
    "start_time": "2024-11-19T05:39:37.682Z"
   },
   {
    "duration": 4,
    "start_time": "2024-11-19T05:39:37.704Z"
   },
   {
    "duration": 84,
    "start_time": "2024-11-19T05:39:37.709Z"
   },
   {
    "duration": 9,
    "start_time": "2024-11-19T05:39:37.794Z"
   },
   {
    "duration": 4,
    "start_time": "2024-11-19T05:39:37.805Z"
   },
   {
    "duration": 46,
    "start_time": "2024-11-19T05:39:37.811Z"
   },
   {
    "duration": 18,
    "start_time": "2024-11-19T05:39:37.858Z"
   },
   {
    "duration": 7,
    "start_time": "2024-11-19T05:39:37.878Z"
   },
   {
    "duration": 360,
    "start_time": "2024-11-19T05:39:37.886Z"
   },
   {
    "duration": 35,
    "start_time": "2024-11-19T05:39:38.247Z"
   },
   {
    "duration": 60,
    "start_time": "2024-11-19T05:39:38.318Z"
   },
   {
    "duration": 49,
    "start_time": "2024-11-19T05:39:38.379Z"
   },
   {
    "duration": 113,
    "start_time": "2024-11-19T05:39:38.430Z"
   },
   {
    "duration": 113,
    "start_time": "2024-11-19T05:39:38.544Z"
   },
   {
    "duration": 83,
    "start_time": "2024-11-19T05:39:38.658Z"
   },
   {
    "duration": 88,
    "start_time": "2024-11-19T05:39:38.745Z"
   },
   {
    "duration": 44,
    "start_time": "2024-11-19T05:39:38.834Z"
   },
   {
    "duration": 52,
    "start_time": "2024-11-19T06:04:00.447Z"
   },
   {
    "duration": 459,
    "start_time": "2024-11-19T06:04:18.325Z"
   },
   {
    "duration": 24,
    "start_time": "2024-11-19T06:04:18.786Z"
   },
   {
    "duration": 17,
    "start_time": "2024-11-19T06:04:18.812Z"
   },
   {
    "duration": 15,
    "start_time": "2024-11-19T06:04:18.831Z"
   },
   {
    "duration": 56,
    "start_time": "2024-11-19T06:04:18.848Z"
   },
   {
    "duration": 3,
    "start_time": "2024-11-19T06:04:18.906Z"
   },
   {
    "duration": 19,
    "start_time": "2024-11-19T06:04:18.911Z"
   },
   {
    "duration": 4,
    "start_time": "2024-11-19T06:04:18.931Z"
   },
   {
    "duration": 9,
    "start_time": "2024-11-19T06:04:18.937Z"
   },
   {
    "duration": 18,
    "start_time": "2024-11-19T06:04:18.948Z"
   },
   {
    "duration": 39,
    "start_time": "2024-11-19T06:04:18.967Z"
   },
   {
    "duration": 10,
    "start_time": "2024-11-19T06:04:19.008Z"
   },
   {
    "duration": 3,
    "start_time": "2024-11-19T06:04:19.020Z"
   },
   {
    "duration": 12,
    "start_time": "2024-11-19T06:04:19.024Z"
   },
   {
    "duration": 46,
    "start_time": "2024-11-19T06:04:19.037Z"
   },
   {
    "duration": 17,
    "start_time": "2024-11-19T06:04:19.085Z"
   },
   {
    "duration": 3,
    "start_time": "2024-11-19T06:04:19.104Z"
   },
   {
    "duration": 14,
    "start_time": "2024-11-19T06:04:19.109Z"
   },
   {
    "duration": 6,
    "start_time": "2024-11-19T06:04:19.124Z"
   },
   {
    "duration": 4,
    "start_time": "2024-11-19T06:04:19.131Z"
   },
   {
    "duration": 37,
    "start_time": "2024-11-19T06:04:19.136Z"
   },
   {
    "duration": 6,
    "start_time": "2024-11-19T06:04:19.174Z"
   },
   {
    "duration": 2,
    "start_time": "2024-11-19T06:04:19.182Z"
   },
   {
    "duration": 338,
    "start_time": "2024-11-19T06:04:19.186Z"
   },
   {
    "duration": 42,
    "start_time": "2024-11-19T06:04:19.525Z"
   },
   {
    "duration": 42,
    "start_time": "2024-11-19T06:04:19.569Z"
   },
   {
    "duration": 4,
    "start_time": "2024-11-19T06:04:19.613Z"
   },
   {
    "duration": 53,
    "start_time": "2024-11-19T06:04:19.620Z"
   },
   {
    "duration": 44,
    "start_time": "2024-11-19T06:04:19.674Z"
   },
   {
    "duration": 48,
    "start_time": "2024-11-19T06:04:19.719Z"
   },
   {
    "duration": 41,
    "start_time": "2024-11-19T06:04:19.768Z"
   },
   {
    "duration": 31,
    "start_time": "2024-11-19T06:04:19.811Z"
   },
   {
    "duration": 3,
    "start_time": "2024-11-19T06:07:22.584Z"
   },
   {
    "duration": 75,
    "start_time": "2024-11-19T06:07:27.070Z"
   },
   {
    "duration": 4,
    "start_time": "2024-11-19T06:08:52.534Z"
   },
   {
    "duration": 49,
    "start_time": "2024-11-19T06:09:38.547Z"
   },
   {
    "duration": 83,
    "start_time": "2024-11-19T06:09:49.549Z"
   },
   {
    "duration": 16,
    "start_time": "2024-11-19T06:09:49.634Z"
   },
   {
    "duration": 16,
    "start_time": "2024-11-19T06:09:49.665Z"
   },
   {
    "duration": 10,
    "start_time": "2024-11-19T06:09:49.683Z"
   },
   {
    "duration": 42,
    "start_time": "2024-11-19T06:09:49.694Z"
   },
   {
    "duration": 4,
    "start_time": "2024-11-19T06:09:49.737Z"
   },
   {
    "duration": 38,
    "start_time": "2024-11-19T06:09:49.742Z"
   },
   {
    "duration": 6,
    "start_time": "2024-11-19T06:09:49.781Z"
   },
   {
    "duration": 8,
    "start_time": "2024-11-19T06:09:49.789Z"
   },
   {
    "duration": 6,
    "start_time": "2024-11-19T06:09:49.800Z"
   },
   {
    "duration": 79,
    "start_time": "2024-11-19T06:09:49.808Z"
   },
   {
    "duration": 17,
    "start_time": "2024-11-19T06:09:49.889Z"
   },
   {
    "duration": 53,
    "start_time": "2024-11-19T06:09:49.908Z"
   },
   {
    "duration": 34,
    "start_time": "2024-11-19T06:09:49.963Z"
   },
   {
    "duration": 21,
    "start_time": "2024-11-19T06:09:49.998Z"
   },
   {
    "duration": 17,
    "start_time": "2024-11-19T06:09:50.021Z"
   },
   {
    "duration": 4,
    "start_time": "2024-11-19T06:09:50.039Z"
   },
   {
    "duration": 25,
    "start_time": "2024-11-19T06:09:50.045Z"
   },
   {
    "duration": 7,
    "start_time": "2024-11-19T06:09:50.071Z"
   },
   {
    "duration": 11,
    "start_time": "2024-11-19T06:09:50.079Z"
   },
   {
    "duration": 20,
    "start_time": "2024-11-19T06:09:50.092Z"
   },
   {
    "duration": 29,
    "start_time": "2024-11-19T06:09:50.113Z"
   },
   {
    "duration": 4,
    "start_time": "2024-11-19T06:09:50.143Z"
   },
   {
    "duration": 9,
    "start_time": "2024-11-19T06:09:50.149Z"
   },
   {
    "duration": 25,
    "start_time": "2024-11-19T06:09:50.165Z"
   },
   {
    "duration": 26,
    "start_time": "2024-11-19T06:09:50.192Z"
   },
   {
    "duration": 64,
    "start_time": "2024-11-19T06:09:50.220Z"
   },
   {
    "duration": 5,
    "start_time": "2024-11-19T06:09:50.287Z"
   },
   {
    "duration": 72,
    "start_time": "2024-11-19T06:09:50.293Z"
   },
   {
    "duration": 39,
    "start_time": "2024-11-19T06:09:50.367Z"
   },
   {
    "duration": 30,
    "start_time": "2024-11-19T06:09:50.408Z"
   },
   {
    "duration": 97,
    "start_time": "2024-11-19T06:09:50.439Z"
   },
   {
    "duration": 43,
    "start_time": "2024-11-19T06:09:50.537Z"
   },
   {
    "duration": 18,
    "start_time": "2024-11-19T06:10:35.658Z"
   },
   {
    "duration": 468,
    "start_time": "2024-11-19T06:10:51.921Z"
   },
   {
    "duration": 24,
    "start_time": "2024-11-19T06:10:52.391Z"
   },
   {
    "duration": 63,
    "start_time": "2024-11-19T06:10:52.416Z"
   },
   {
    "duration": 11,
    "start_time": "2024-11-19T06:10:52.481Z"
   },
   {
    "duration": 35,
    "start_time": "2024-11-19T06:10:52.493Z"
   },
   {
    "duration": 3,
    "start_time": "2024-11-19T06:10:52.530Z"
   },
   {
    "duration": 9,
    "start_time": "2024-11-19T06:10:52.535Z"
   },
   {
    "duration": 4,
    "start_time": "2024-11-19T06:10:52.565Z"
   },
   {
    "duration": 9,
    "start_time": "2024-11-19T06:10:52.571Z"
   },
   {
    "duration": 4,
    "start_time": "2024-11-19T06:10:52.584Z"
   },
   {
    "duration": 35,
    "start_time": "2024-11-19T06:10:52.590Z"
   },
   {
    "duration": 10,
    "start_time": "2024-11-19T06:10:52.627Z"
   },
   {
    "duration": 29,
    "start_time": "2024-11-19T06:10:52.638Z"
   },
   {
    "duration": 12,
    "start_time": "2024-11-19T06:10:52.668Z"
   },
   {
    "duration": 19,
    "start_time": "2024-11-19T06:10:52.681Z"
   },
   {
    "duration": 16,
    "start_time": "2024-11-19T06:10:52.701Z"
   },
   {
    "duration": 3,
    "start_time": "2024-11-19T06:10:52.719Z"
   },
   {
    "duration": 10,
    "start_time": "2024-11-19T06:10:52.724Z"
   },
   {
    "duration": 32,
    "start_time": "2024-11-19T06:10:52.735Z"
   },
   {
    "duration": 4,
    "start_time": "2024-11-19T06:10:52.768Z"
   },
   {
    "duration": 11,
    "start_time": "2024-11-19T06:10:52.774Z"
   },
   {
    "duration": 307,
    "start_time": "2024-11-19T06:10:52.787Z"
   },
   {
    "duration": 4,
    "start_time": "2024-11-19T06:10:53.096Z"
   },
   {
    "duration": 3,
    "start_time": "2024-11-19T06:10:53.102Z"
   },
   {
    "duration": 25,
    "start_time": "2024-11-19T06:10:53.107Z"
   },
   {
    "duration": 53,
    "start_time": "2024-11-19T06:10:53.134Z"
   },
   {
    "duration": 40,
    "start_time": "2024-11-19T06:10:53.190Z"
   },
   {
    "duration": 4,
    "start_time": "2024-11-19T06:10:53.234Z"
   },
   {
    "duration": 32,
    "start_time": "2024-11-19T06:10:53.266Z"
   },
   {
    "duration": 41,
    "start_time": "2024-11-19T06:10:53.299Z"
   },
   {
    "duration": 48,
    "start_time": "2024-11-19T06:10:53.341Z"
   },
   {
    "duration": 39,
    "start_time": "2024-11-19T06:10:53.391Z"
   },
   {
    "duration": 54,
    "start_time": "2024-11-19T06:10:53.431Z"
   },
   {
    "duration": 82,
    "start_time": "2024-11-19T06:10:58.434Z"
   },
   {
    "duration": 8,
    "start_time": "2024-11-19T06:11:51.651Z"
   },
   {
    "duration": 29,
    "start_time": "2024-11-19T06:12:38.095Z"
   },
   {
    "duration": 23,
    "start_time": "2024-11-19T06:13:02.896Z"
   },
   {
    "duration": 90,
    "start_time": "2024-11-19T06:13:54.483Z"
   },
   {
    "duration": 26,
    "start_time": "2024-11-19T06:14:07.374Z"
   },
   {
    "duration": 26,
    "start_time": "2024-11-19T06:14:23.040Z"
   },
   {
    "duration": 25,
    "start_time": "2024-11-19T06:16:10.192Z"
   }
  ],
  "colab": {
   "name": "dpp_template_part2.ipynb",
   "provenance": []
  },
  "kernelspec": {
   "display_name": "Python 3 (ipykernel)",
   "language": "python",
   "name": "python3"
  },
  "language_info": {
   "codemirror_mode": {
    "name": "ipython",
    "version": 3
   },
   "file_extension": ".py",
   "mimetype": "text/x-python",
   "name": "python",
   "nbconvert_exporter": "python",
   "pygments_lexer": "ipython3",
   "version": "3.9.20"
  },
  "toc": {
   "base_numbering": 1,
   "nav_menu": {},
   "number_sections": true,
   "sideBar": true,
   "skip_h1_title": true,
   "title_cell": "Table of Contents",
   "title_sidebar": "Contents",
   "toc_cell": false,
   "toc_position": {
    "height": "calc(100% - 180px)",
    "left": "10px",
    "top": "150px",
    "width": "315.195px"
   },
   "toc_section_display": true,
   "toc_window_display": false
  }
 },
 "nbformat": 4,
 "nbformat_minor": 5
}
